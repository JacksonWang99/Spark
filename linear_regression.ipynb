{
 "cells": [
  {
   "cell_type": "markdown",
   "metadata": {},
   "source": [
    "# <Center>**Linear Methods for Regression**</Center>\n"
   ]
  },
  {
   "cell_type": "markdown",
   "metadata": {},
   "source": [
    "![linear_regression](./pics/linear_regression.svg)"
   ]
  },
  {
   "cell_type": "markdown",
   "metadata": {},
   "source": [
    "## Goal of lecture 11\n",
    "\n",
    "* Concetps of machine learning. \n",
    "* What is regression problem, how linear regression works. 什么是回归问题，线性回归如何工作。\n",
    "* Model, Train, Fit, Predict, Loss Function, Optimisation, Overfit, Underfit, Generalisation\n",
    "* 模型，训练，拟合，预测，损失函数，优化，过度拟合（训练数据表现很好，但是测试数据表现不好），欠拟合（拟合程度不够，预测公式不够好预测下一个点），泛化\n",
    "* Implementation  实施"
   ]
  },
  {
   "cell_type": "markdown",
   "metadata": {},
   "source": [
    "**Quote from ESL (Element of Statistical Learning)** \n",
    "\n",
    "> it is our firm belief that an understanding of linear methods is essential for understanding nonlinear ones. In fact, many nonlinear techniques are direct generalizations of the linear methods discussed here\n"
   ]
  },
  {
   "cell_type": "markdown",
   "metadata": {},
   "source": [
    "**Quote from [Andrew Ng](https://zh.wikipedia.org/wiki/%E5%90%B4%E6%81%A9%E8%BE%BE)**\n",
    "> funny 95%的硅谷做AI的engineer都不懂线性回归，而当你懂了线性回归后，你就超过了大多数硅谷搞AI的人，可以去申请Offer了。"
   ]
  },
  {
   "cell_type": "markdown",
   "metadata": {},
   "source": [
    "## Univariate Linear Regression  一元线性回归"
   ]
  },
  {
   "cell_type": "code",
   "execution_count": 2,
   "metadata": {},
   "outputs": [
    {
     "data": {
      "image/png": "[encoded data removed]",
      "text/plain": [
       "<Figure size 432x288 with 1 Axes>"
      ]
     },
     "metadata": {
      "needs_background": "light"
     },
     "output_type": "display_data"
    }
   ],
   "source": [
    "import numpy as np              #把numpy包调入\n",
    "import matplotlib.pyplot as plt\n",
    "\n",
    "n = 10                      #变量=10\n",
    "mu, sigma = 0, 4            #赋值 均值为0 方差为4\n",
    "x = np.linspace(0, 50, n)   #0 - 50 取10个点\n",
    "e = np.random.normal(mu, sigma, n) #一个随机的正态分布\n",
    "y = 2 * x + 1 + e           # e 是误差项\n",
    "y_fit = 2 * x + 1           #实际的线\n",
    "\n",
    "plt.plot(x, y, '*')   \n",
    "plt.plot(x, y_fit, '-')  #这条线是对所有点的拟合\n",
    "plt.show()"
   ]
  },
  {
   "cell_type": "code",
   "execution_count": 4,
   "metadata": {},
   "outputs": [
    {
     "data": {
      "image/png": "[encoded data removed]",
      "text/plain": [
       "<Figure size 432x288 with 1 Axes>"
      ]
     },
     "metadata": {
      "needs_background": "light"
     },
     "output_type": "display_data"
    }
   ],
   "source": [
    "import numpy as np\n",
    "import matplotlib.pyplot as plt\n",
    "\n",
    "n =10\n",
    "mu,sigma = 1,6\n",
    "x = np.linspace(0, 100, n)  #划线的函数 np.linespace 从0开始到100，间隔为10 \n",
    "e = np.random.normal(mu, sigma, n) \n",
    "y = 2 * x + 1 + e           # e 是误差项\n",
    "y_fit = 2 * x + 1           #实际的线\n",
    "\n",
    "plt.plot(x, y, '*')   \n",
    "plt.plot(x, y_fit, '-')  #这条线是对所有点的拟合\n",
    "plt.show()"
   ]
  },
  {
   "cell_type": "markdown",
   "metadata": {},
   "source": [
    "point1 = (1,3)\n",
    "\n",
    "point2 = (2,5)\n",
    "\n",
    "point3 = (3,6)\n",
    "\n",
    "**Q: How to find a line $y = \\beta_1x + \\beta_0$ to best fit these 3 points?**\n",
    "\n",
    "最小二乘法  求导=0  两个方程联立求解\n",
    "求导的话就是斜率，当斜率等于0 的时候，也就是与函数的切线水平，取得最小值。\n",
    "在现实例子里面（真实值-预测值）误差最小，才是我们想要的  https://zh.wikipedia.org/wiki/%E6%9C%80%E5%B0%8F%E4%BA%8C%E4%B9%98%E6%B3%95\n",
    "\n",
    "The least square method is to try to minimize the squared error of both sides, which is to find the minimum value of this function.\n",
    "Do the Partial derivative.\n"
   ]
  },
  {
   "cell_type": "code",
   "execution_count": 3,
   "metadata": {},
   "outputs": [
    {
     "data": {
      "image/png": "[encoded data removed]",
      "text/plain": [
       "<Figure size 432x288 with 1 Axes>"
      ]
     },
     "metadata": {
      "needs_background": "light"
     },
     "output_type": "display_data"
    }
   ],
   "source": [
    "import numpy as np\n",
    "import matplotlib.pyplot as plt  # 把 matplotlib.pyplot 命名为  plt  约定俗成的写法\n",
    "\n",
    "X1 = np.array([1,2,3])\n",
    "Y1 = np.array([3,5,6])    # 三个点\n",
    "X2 = np.linspace(-5,5,10)\n",
    "Y2 = 1.5 * X2 + 1.66667\n",
    "\n",
    "plt.plot(X1, Y1, '*')\n",
    "plt.plot(X2, Y2, '-')\n",
    "plt.show() "
   ]
  },
  {
   "cell_type": "code",
   "execution_count": 5,
   "metadata": {
    "scrolled": true
   },
   "outputs": [],
   "source": [
    "import pandas\n",
    "from sklearn.model_selection import train_test_split  # \n",
    "from sklearn.linear_model import LinearRegression     #  LinearRegression 一个类\n",
    "\n",
    "dataset = pandas.read_csv('data/salary.csv') #用pandas读入"
   ]
  },
  {
   "cell_type": "code",
   "execution_count": 6,
   "metadata": {},
   "outputs": [
    {
     "data": {
      "text/html": [
       "<div>\n",
       "<style scoped>\n",
       "    .dataframe tbody tr th:only-of-type {\n",
       "        vertical-align: middle;\n",
       "    }\n",
       "\n",
       "    .dataframe tbody tr th {\n",
       "        vertical-align: top;\n",
       "    }\n",
       "\n",
       "    .dataframe thead th {\n",
       "        text-align: right;\n",
       "    }\n",
       "</style>\n",
       "<table border=\"1\" class=\"dataframe\">\n",
       "  <thead>\n",
       "    <tr style=\"text-align: right;\">\n",
       "      <th></th>\n",
       "      <th>years_experience</th>\n",
       "      <th>salary</th>\n",
       "    </tr>\n",
       "  </thead>\n",
       "  <tbody>\n",
       "    <tr>\n",
       "      <th>0</th>\n",
       "      <td>1.1</td>\n",
       "      <td>39343.0</td>\n",
       "    </tr>\n",
       "    <tr>\n",
       "      <th>1</th>\n",
       "      <td>1.3</td>\n",
       "      <td>46205.0</td>\n",
       "    </tr>\n",
       "    <tr>\n",
       "      <th>2</th>\n",
       "      <td>1.5</td>\n",
       "      <td>37731.0</td>\n",
       "    </tr>\n",
       "    <tr>\n",
       "      <th>3</th>\n",
       "      <td>2.0</td>\n",
       "      <td>43525.0</td>\n",
       "    </tr>\n",
       "    <tr>\n",
       "      <th>4</th>\n",
       "      <td>2.2</td>\n",
       "      <td>39891.0</td>\n",
       "    </tr>\n",
       "  </tbody>\n",
       "</table>\n",
       "</div>"
      ],
      "text/plain": [
       "   years_experience   salary\n",
       "0               1.1  39343.0\n",
       "1               1.3  46205.0\n",
       "2               1.5  37731.0\n",
       "3               2.0  43525.0\n",
       "4               2.2  39891.0"
      ]
     },
     "execution_count": 6,
     "metadata": {},
     "output_type": "execute_result"
    }
   ],
   "source": [
    "dataset.head() # 打印前5行"
   ]
  },
  {
   "cell_type": "code",
   "execution_count": 7,
   "metadata": {},
   "outputs": [
    {
     "data": {
      "text/plain": [
       "<matplotlib.collections.PathCollection at 0x21ef9b25588>"
      ]
     },
     "execution_count": 7,
     "metadata": {},
     "output_type": "execute_result"
    },
    {
     "data": {
      "image/png": "[encoded data removed]",
      "text/plain": [
       "<Figure size 432x288 with 1 Axes>"
      ]
     },
     "metadata": {
      "needs_background": "light"
     },
     "output_type": "display_data"
    }
   ],
   "source": [
    "#x = dataset.iloc[:, :-1].values\n",
    "#y = dataset.iloc[:, 1].values\n",
    "x = dataset[['years_experience']].values  # dataset 是一个函数 key:value, 取出来 value\n",
    "y = dataset[['salary']].values\n",
    "plt.scatter(x, y, color = 'red') # scatter() 画散点图"
   ]
  },
  {
   "cell_type": "code",
   "execution_count": 9,
   "metadata": {},
   "outputs": [
    {
     "data": {
      "image/png": "[encoded data removed]",
      "text/plain": [
       "<Figure size 432x288 with 1 Axes>"
      ]
     },
     "metadata": {
      "needs_background": "light"
     },
     "output_type": "display_data"
    }
   ],
   "source": [
    "# LinearRegression 是 sklearn.linear_mode包里面，计算一个线性回归的一个类，已经封装好了，直接调用\n",
    "\n",
    "linearRegressor = LinearRegression()\n",
    "linearRegressor.fit(x, y)                 # fit() 就相当于training 的形式，把线fit到这些点上，上面的x,y \n",
    "                                          #会直接计算好，并且存放在这个类里面，下面就可以做prediction\n",
    "prediction = linearRegressor.predict(x)   # 给出 x ，算出y，因为已经算出了方程式\n",
    "#到这里 （x,y）-> （x,prediction）\n",
    "\n",
    "plt.scatter(x, y, color = 'red')         # 使用真实值画出  散点图\n",
    "plt.plot(x, prediction, color = 'blue')  # 使用预测值画出的线图，进行预测\n",
    "\n",
    "plt.title('Salary vs Experience (Training set)')  # 设置的图的title\n",
    "plt.xlabel('Years of Experience')         # x轴 的命名\n",
    "plt.ylabel('Salary')                      # y  轴的命名\n",
    "plt.show()                                #我通过我的红色的实际数据，统计数据，观测数据，我学习出来了一条蓝色的数学模型，这条线最好的\n",
    "                                          #拟合了我们的散点，这条蓝线就可以用来做，工作年限和salary 的预测"
   ]
  },
  {
   "cell_type": "code",
   "execution_count": 10,
   "metadata": {},
   "outputs": [
    {
     "name": "stdout",
     "output_type": "stream",
     "text": [
      "[[9449.96232146]]\n",
      "[25792.20019867]\n"
     ]
    }
   ],
   "source": [
    "print(linearRegressor.coef_)       # coef_ 系数  对于一元线性回归只有一个值，对于n元线性回归有n个值\n",
    "print(linearRegressor.intercept_)  #intercept_ 截距 永远只有一个值\n",
    "y = 9449.96232146 * x + 25792.20019867\n",
    "#y = a X + B"
   ]
  },
  {
   "cell_type": "code",
   "execution_count": 11,
   "metadata": {},
   "outputs": [
    {
     "name": "stdout",
     "output_type": "stream",
     "text": [
      "1.0\n"
     ]
    }
   ],
   "source": [
    "print(linearRegressor.score(x[:20],y[:20]))"
   ]
  },
  {
   "cell_type": "markdown",
   "metadata": {},
   "source": [
    "## Basic Concept\n",
    "\n",
    "* Model\n",
    "* Fit\n",
    "* Optimisation  优化\n",
    "* Feature, Predictor 预测参数, Dimension 几个预测元素，维度 几维的"
   ]
  },
  {
   "cell_type": "code",
   "execution_count": 12,
   "metadata": {
    "collapsed": true
   },
   "outputs": [
    {
     "ename": "SyntaxError",
     "evalue": "invalid character in identifier (<ipython-input-12-d06255bde079>, line 1)",
     "output_type": "error",
     "traceback": [
      "\u001b[1;36m  File \u001b[1;32m\"<ipython-input-12-d06255bde079>\"\u001b[1;36m, line \u001b[1;32m1\u001b[0m\n\u001b[1;33m    在实际工作中，主要是 从没有得到有，如果从有要得到更有，时间，经历会花费更多。把精确率往上提一个点的时候，回报率\u001b[0m\n\u001b[1;37m             ^\u001b[0m\n\u001b[1;31mSyntaxError\u001b[0m\u001b[1;31m:\u001b[0m invalid character in identifier\n"
     ]
    }
   ],
   "source": [
    "在实际工作中，主要是 从没有得到有，如果从有要得到更有，时间，经历会花费更多。把精确率往上提一个点的时候，回报率\n",
    "会很小。"
   ]
  },
  {
   "cell_type": "markdown",
   "metadata": {},
   "source": [
    "<hr/>"
   ]
  },
  {
   "cell_type": "markdown",
   "metadata": {},
   "source": [
    "## Main Idea\n",
    "\n",
    "$$ f(x) = \\beta_0 + \\sum_{j=1}^p x_j \\beta_j $$\n",
    "\n",
    "* $\\beta_j$, parameters or coeffcients  参数，系数\n",
    "* $p = 1$, univariate linear regression model  一元线性回归\n",
    "* $p > 1$, multiple linear regression model  多元线性回归\n",
    "\n",
    "$$ f(x) = \\sum_{j=0}^p x_j\\beta_j $$\n",
    "\n",
    "* assume $x_0$ is 1"
   ]
  },
  {
   "cell_type": "markdown",
   "metadata": {},
   "source": [
    "### *Least sequares* to estimate $\\beta$          关于 $\\beta$的最小二乘法\n",
    "* RSS = Residual Sum of Squares  残差平方和\n",
    "\n",
    "$$ RSS(\\beta) = \\sum_{i=1}^N (y_i - f(x_i))^2 $$\n",
    "\n",
    "* Find $\\hat \\beta$ to minimize $RSS(\\beta)$ \n",
    "\n",
    "$$ \\hat \\beta = \\arg_{\\beta} \\min\\{ \\sum_{i=1}^N (y_i - f(x_i))^2 \\} $$"
   ]
  },
  {
   "cell_type": "markdown",
   "metadata": {},
   "source": [
    "### Differentiating with respect to $\\beta$   对$\\beta$ 求导 \n",
    "\n",
    "$$ RSS(\\beta) = (y-X\\beta)^T(y-X\\beta) $$\n",
    "\n",
    "$$ \\frac {\\partial RSS}{\\partial \\beta} = -2X^T(y - X\\beta) = 0 $$\n",
    "\n",
    "$$ X^T(y - X\\beta) = 0 $$\n",
    "\n",
    "* $\\hat y$ is the orthogonally projection onto the hyperplane spanned by the input vectors. \n",
    "\n",
    "$$ \\hat \\beta = (X^TX)^{-1}X^Ty$$"
   ]
  },
  {
   "cell_type": "markdown",
   "metadata": {},
   "source": [
    "### 2 main problems of Least Square Estimate  最小二乘法的两个主要问题\n",
    "\n",
    "* Low bias but large variance  偏差小，方差大\n",
    "* Hard to interpreate for large number of predictors 难以解释大量预测变量"
   ]
  },
  {
   "cell_type": "markdown",
   "metadata": {},
   "source": [
    "![bias_variance](./pics/bias_variance.png)"
   ]
  },
  {
   "cell_type": "markdown",
   "metadata": {},
   "source": [
    "### Solutions     变种\n",
    "\n",
    "这三种方式都是为了减少系数，避免过拟合的问题，以便于适合更多的数据和预测\n",
    "* Shrinkage Methods  收缩方法\n",
    "  * **Ridge** regression  岭 回归分析\n",
    "  * **LASSO** (Least Absolute Shrinkage and Selection Operator) regression  拉锁回归\n",
    "  * **ElasticNet** regression   弹性网络回归"
   ]
  },
  {
   "cell_type": "markdown",
   "metadata": {},
   "source": [
    "## Ridge Regression\n",
    "\n",
    "在后面添加了\\lambda \\ ，不希望系数太多 减少过拟合的几率\n",
    "$$ \\hat \\beta = \\arg_{\\beta} \\min\\{ \\sum_{i=1}^N (y_i - f(x_i))^2 + \\lambda \\sum_{j=1}^p \\beta_j^2 \\} $$\n",
    "\n",
    "$$ \\hat \\beta = (X^TX + \\lambda I)^{-1}X^Ty$$"
   ]
  },
  {
   "cell_type": "markdown",
   "metadata": {},
   "source": [
    "## LASSO Regression\n",
    "\n",
    "添加了绝对值加和  减少系数\n",
    "\n",
    "$$ \\hat \\beta = \\arg_{\\beta} \\min\\{ \\sum_{i=1}^N (y_i - f(x_i))^2 + \\lambda \\sum_{j=1}^p |\\beta_j| \\} $$\n",
    "\n",
    "* Optimisation is a quadratic programming problem (二次规划问题)"
   ]
  },
  {
   "cell_type": "markdown",
   "metadata": {},
   "source": [
    "## ElasticNet Regression\n",
    "\n",
    "$$ \\hat \\beta = \\arg_{\\beta} \\min\\{ \\sum_{i=1}^N (y_i - f(x_i))^2 + \\lambda (\\sum_{j=1}^p \\alpha \\beta_j^2  + (1-\\alpha)|\\beta_j|) \\} $$"
   ]
  },
  {
   "cell_type": "markdown",
   "metadata": {},
   "source": [
    "## Additional Materials\n",
    "\n",
    "[Gauss–Markov Theorem](https://en.wikipedia.org/wiki/Gauss%E2%80%93Markov_theorem)\n",
    "* **B**est **L**inear **U**nbiased **E**stimator (BLUE) of the coefficients is given by the **O**rdinary **L**east **S**quares (OLS) estimator, provided it exists.\n",
    "* Best means **lowest variance** estimator among all **unbiased** linear estimators.\n",
    "* The theorem was named after Carl Friedrich Gauss and Andrey Markov\n",
    "无偏性的话，最小二乘法是最好的方法"
   ]
  },
  {
   "cell_type": "markdown",
   "metadata": {},
   "source": [
    "<hr/>"
   ]
  },
  {
   "cell_type": "markdown",
   "metadata": {},
   "source": [
    "## Sample Project"
   ]
  },
  {
   "cell_type": "markdown",
   "metadata": {},
   "source": [
    "### Business Goal\n",
    "Use Linear Regression to Predict Unemployment\n",
    "使用线性回归预测失业率"
   ]
  },
  {
   "cell_type": "markdown",
   "metadata": {},
   "source": [
    "### Data"
   ]
  },
  {
   "cell_type": "code",
   "execution_count": 67,
   "metadata": {
    "scrolled": true
   },
   "outputs": [
    {
     "name": "stderr",
     "output_type": "stream",
     "text": [
      "'ls' is not recognized as an internal or external command,\n",
      "operable program or batch file.\n"
     ]
    }
   ],
   "source": [
    "! ls ./data/unemployment/raw/"
   ]
  },
  {
   "cell_type": "markdown",
   "metadata": {},
   "source": [
    "**Features or Predictors**\n",
    "* PCE.csv - personal consumption expenditures, in billions of dollars 个人消费支出，数十亿美元\n",
    "* POP.csv - total population, in thousands\n",
    "* PSAVERT.csv - personal savings rate  个人存储率\n",
    "* UEMPMED.csv - median duration of unemployment, in weeks\n",
    "\n",
    "**Dependent Variable or Target**  变量和目标\n",
    "* UNEMPLOY.csv - number of unemployed in thousands "
   ]
  },
  {
   "cell_type": "code",
   "execution_count": 10,
   "metadata": {},
   "outputs": [
    {
     "name": "stderr",
     "output_type": "stream",
     "text": [
      "'ls' is not recognized as an internal or external command,\n",
      "operable program or batch file.\n"
     ]
    }
   ],
   "source": [
    "! ls ./data/unemployment/"
   ]
  },
  {
   "cell_type": "markdown",
   "metadata": {},
   "source": [
    "* unemployment_data.csv - join all above data on DATE, this is the final data format we will use for the project."
   ]
  },
  {
   "cell_type": "markdown",
   "metadata": {},
   "source": [
    "### Implementation with scikit-learn"
   ]
  },
  {
   "cell_type": "code",
   "execution_count": 30,
   "metadata": {},
   "outputs": [],
   "source": [
    "import pandas as pd\n",
    "import numpy as np\n",
    "from sklearn import model_selection\n",
    "from sklearn.linear_model import LinearRegression\n",
    "from sklearn.linear_model import Ridge\n",
    "from sklearn.linear_model import Lasso\n",
    "from sklearn.linear_model import ElasticNet\n",
    "from sklearn.metrics import r2_score\n",
    "from sklearn.model_selection import train_test_split\n",
    "from sklearn.metrics import mean_squared_error\n",
    "from math import sqrt"
   ]
  },
  {
   "cell_type": "code",
   "execution_count": 31,
   "metadata": {},
   "outputs": [],
   "source": [
    "# read data into a pandas dataframe  读入数据 付到 df\n",
    "df = pd.read_csv('./data/unemployment/unemployment_data.csv')"
   ]
  },
  {
   "cell_type": "code",
   "execution_count": 32,
   "metadata": {},
   "outputs": [
    {
     "name": "stdout",
     "output_type": "stream",
     "text": [
      "(625, 5)\n"
     ]
    }
   ],
   "source": [
    "# shape of the dataframe, how many lines and how many columns\n",
    "print(df.shape)  # 625行 5列"
   ]
  },
  {
   "cell_type": "code",
   "execution_count": 33,
   "metadata": {},
   "outputs": [
    {
     "data": {
      "text/html": [
       "<div>\n",
       "<style scoped>\n",
       "    .dataframe tbody tr th:only-of-type {\n",
       "        vertical-align: middle;\n",
       "    }\n",
       "\n",
       "    .dataframe tbody tr th {\n",
       "        vertical-align: top;\n",
       "    }\n",
       "\n",
       "    .dataframe thead th {\n",
       "        text-align: right;\n",
       "    }\n",
       "</style>\n",
       "<table border=\"1\" class=\"dataframe\">\n",
       "  <thead>\n",
       "    <tr style=\"text-align: right;\">\n",
       "      <th></th>\n",
       "      <th>PCE</th>\n",
       "      <th>POP</th>\n",
       "      <th>PSAVERT</th>\n",
       "      <th>UEMPMED</th>\n",
       "      <th>UNEMPLOY</th>\n",
       "    </tr>\n",
       "  </thead>\n",
       "  <tbody>\n",
       "    <tr>\n",
       "      <th>0</th>\n",
       "      <td>506.7</td>\n",
       "      <td>198712.0</td>\n",
       "      <td>12.6</td>\n",
       "      <td>4.5</td>\n",
       "      <td>2944</td>\n",
       "    </tr>\n",
       "    <tr>\n",
       "      <th>1</th>\n",
       "      <td>509.8</td>\n",
       "      <td>198911.0</td>\n",
       "      <td>12.6</td>\n",
       "      <td>4.7</td>\n",
       "      <td>2945</td>\n",
       "    </tr>\n",
       "    <tr>\n",
       "      <th>2</th>\n",
       "      <td>515.6</td>\n",
       "      <td>199113.0</td>\n",
       "      <td>11.9</td>\n",
       "      <td>4.6</td>\n",
       "      <td>2958</td>\n",
       "    </tr>\n",
       "    <tr>\n",
       "      <th>3</th>\n",
       "      <td>512.2</td>\n",
       "      <td>199311.0</td>\n",
       "      <td>12.9</td>\n",
       "      <td>4.9</td>\n",
       "      <td>3143</td>\n",
       "    </tr>\n",
       "    <tr>\n",
       "      <th>4</th>\n",
       "      <td>517.4</td>\n",
       "      <td>199498.0</td>\n",
       "      <td>12.8</td>\n",
       "      <td>4.7</td>\n",
       "      <td>3066</td>\n",
       "    </tr>\n",
       "  </tbody>\n",
       "</table>\n",
       "</div>"
      ],
      "text/plain": [
       "     PCE       POP  PSAVERT  UEMPMED  UNEMPLOY\n",
       "0  506.7  198712.0     12.6      4.5      2944\n",
       "1  509.8  198911.0     12.6      4.7      2945\n",
       "2  515.6  199113.0     11.9      4.6      2958\n",
       "3  512.2  199311.0     12.9      4.9      3143\n",
       "4  517.4  199498.0     12.8      4.7      3066"
      ]
     },
     "execution_count": 33,
     "metadata": {},
     "output_type": "execute_result"
    }
   ],
   "source": [
    "# show first 5 lines of the data\n",
    "df.head()"
   ]
  },
  {
   "cell_type": "code",
   "execution_count": 34,
   "metadata": {},
   "outputs": [
    {
     "data": {
      "text/html": [
       "<div>\n",
       "<style scoped>\n",
       "    .dataframe tbody tr th:only-of-type {\n",
       "        vertical-align: middle;\n",
       "    }\n",
       "\n",
       "    .dataframe tbody tr th {\n",
       "        vertical-align: top;\n",
       "    }\n",
       "\n",
       "    .dataframe thead th {\n",
       "        text-align: right;\n",
       "    }\n",
       "</style>\n",
       "<table border=\"1\" class=\"dataframe\">\n",
       "  <thead>\n",
       "    <tr style=\"text-align: right;\">\n",
       "      <th></th>\n",
       "      <th>PCE</th>\n",
       "      <th>POP</th>\n",
       "      <th>PSAVERT</th>\n",
       "      <th>UEMPMED</th>\n",
       "      <th>UNEMPLOY</th>\n",
       "    </tr>\n",
       "  </thead>\n",
       "  <tbody>\n",
       "    <tr>\n",
       "      <th>count</th>\n",
       "      <td>625.000000</td>\n",
       "      <td>625.000000</td>\n",
       "      <td>625.000000</td>\n",
       "      <td>625.000000</td>\n",
       "      <td>625.000000</td>\n",
       "    </tr>\n",
       "    <tr>\n",
       "      <th>mean</th>\n",
       "      <td>5515.764640</td>\n",
       "      <td>262709.367058</td>\n",
       "      <td>8.467840</td>\n",
       "      <td>8.733120</td>\n",
       "      <td>7713.380800</td>\n",
       "    </tr>\n",
       "    <tr>\n",
       "      <th>std</th>\n",
       "      <td>4137.069957</td>\n",
       "      <td>39791.444228</td>\n",
       "      <td>2.865193</td>\n",
       "      <td>3.964802</td>\n",
       "      <td>2548.928004</td>\n",
       "    </tr>\n",
       "    <tr>\n",
       "      <th>min</th>\n",
       "      <td>506.700000</td>\n",
       "      <td>198712.000000</td>\n",
       "      <td>2.200000</td>\n",
       "      <td>4.000000</td>\n",
       "      <td>2685.000000</td>\n",
       "    </tr>\n",
       "    <tr>\n",
       "      <th>25%</th>\n",
       "      <td>1747.100000</td>\n",
       "      <td>227726.000000</td>\n",
       "      <td>6.400000</td>\n",
       "      <td>6.100000</td>\n",
       "      <td>6294.000000</td>\n",
       "    </tr>\n",
       "    <tr>\n",
       "      <th>50%</th>\n",
       "      <td>4468.900000</td>\n",
       "      <td>260255.000000</td>\n",
       "      <td>8.000000</td>\n",
       "      <td>7.900000</td>\n",
       "      <td>7459.000000</td>\n",
       "    </tr>\n",
       "    <tr>\n",
       "      <th>75%</th>\n",
       "      <td>9321.800000</td>\n",
       "      <td>298996.000000</td>\n",
       "      <td>10.900000</td>\n",
       "      <td>9.500000</td>\n",
       "      <td>8576.000000</td>\n",
       "    </tr>\n",
       "    <tr>\n",
       "      <th>max</th>\n",
       "      <td>14661.100000</td>\n",
       "      <td>329394.993000</td>\n",
       "      <td>17.300000</td>\n",
       "      <td>25.200000</td>\n",
       "      <td>15352.000000</td>\n",
       "    </tr>\n",
       "  </tbody>\n",
       "</table>\n",
       "</div>"
      ],
      "text/plain": [
       "                PCE            POP     PSAVERT     UEMPMED      UNEMPLOY\n",
       "count    625.000000     625.000000  625.000000  625.000000    625.000000\n",
       "mean    5515.764640  262709.367058    8.467840    8.733120   7713.380800\n",
       "std     4137.069957   39791.444228    2.865193    3.964802   2548.928004\n",
       "min      506.700000  198712.000000    2.200000    4.000000   2685.000000\n",
       "25%     1747.100000  227726.000000    6.400000    6.100000   6294.000000\n",
       "50%     4468.900000  260255.000000    8.000000    7.900000   7459.000000\n",
       "75%     9321.800000  298996.000000   10.900000    9.500000   8576.000000\n",
       "max    14661.100000  329394.993000   17.300000   25.200000  15352.000000"
      ]
     },
     "execution_count": 34,
     "metadata": {},
     "output_type": "execute_result"
    }
   ],
   "source": [
    "# show quick statistics about the dataframe\n",
    "df.describe()  # 算出统计值 count,mean,min..."
   ]
  },
  {
   "cell_type": "code",
   "execution_count": 35,
   "metadata": {},
   "outputs": [
    {
     "data": {
      "text/plain": [
       "['UNEMPLOY']"
      ]
     },
     "execution_count": 35,
     "metadata": {},
     "output_type": "execute_result"
    }
   ],
   "source": [
    "target_column = ['UNEMPLOY']  # 新的变量\n",
    "target_column"
   ]
  },
  {
   "cell_type": "code",
   "execution_count": 36,
   "metadata": {},
   "outputs": [
    {
     "data": {
      "text/plain": [
       "['PCE', 'UEMPMED', 'PSAVERT', 'POP']"
      ]
     },
     "execution_count": 36,
     "metadata": {},
     "output_type": "execute_result"
    }
   ],
   "source": [
    "predictors = list(set(list(df.columns))-set(target_column))  #  选择了4列出来  把target_column = ['UNEMPLOY']\n",
    "#这一列删掉\n",
    "predictors"
   ]
  },
  {
   "cell_type": "code",
   "execution_count": 37,
   "metadata": {},
   "outputs": [],
   "source": [
    "# X is a vector of predictors, y is the target\n",
    "X = df[predictors].values\n",
    "y = df[target_column].values"
   ]
  },
  {
   "cell_type": "code",
   "execution_count": 38,
   "metadata": {},
   "outputs": [
    {
     "data": {
      "text/plain": [
       "array([[5.06700000e+02, 4.50000000e+00, 1.26000000e+01, 1.98712000e+05],\n",
       "       [5.09800000e+02, 4.70000000e+00, 1.26000000e+01, 1.98911000e+05],\n",
       "       [5.15600000e+02, 4.60000000e+00, 1.19000000e+01, 1.99113000e+05],\n",
       "       ...,\n",
       "       [1.45177000e+04, 9.10000000e+00, 8.00000000e+00, 3.29047319e+05],\n",
       "       [1.45680000e+04, 9.60000000e+00, 8.00000000e+00, 3.29213989e+05],\n",
       "       [1.46611000e+04, 8.90000000e+00, 7.70000000e+00, 3.29394993e+05]])"
      ]
     },
     "execution_count": 38,
     "metadata": {},
     "output_type": "execute_result"
    }
   ],
   "source": [
    "X"
   ]
  },
  {
   "cell_type": "code",
   "execution_count": 39,
   "metadata": {},
   "outputs": [
    {
     "data": {
      "text/plain": [
       "array([[ 2944],\n",
       "       [ 2945],\n",
       "       [ 2958],\n",
       "       [ 3143],\n",
       "       [ 3066],\n",
       "       [ 3018],\n",
       "       [ 2878],\n",
       "       [ 3001],\n",
       "       [ 2877],\n",
       "       [ 2709],\n",
       "       [ 2740],\n",
       "       [ 2938],\n",
       "       [ 2883],\n",
       "       [ 2768],\n",
       "       [ 2686],\n",
       "       [ 2689],\n",
       "       [ 2715],\n",
       "       [ 2685],\n",
       "       [ 2718],\n",
       "       [ 2692],\n",
       "       [ 2712],\n",
       "       [ 2758],\n",
       "       [ 2713],\n",
       "       [ 2816],\n",
       "       [ 2868],\n",
       "       [ 2856],\n",
       "       [ 3040],\n",
       "       [ 3049],\n",
       "       [ 2856],\n",
       "       [ 2884],\n",
       "       [ 3201],\n",
       "       [ 3453],\n",
       "       [ 3635],\n",
       "       [ 3797],\n",
       "       [ 3919],\n",
       "       [ 4071],\n",
       "       [ 4175],\n",
       "       [ 4256],\n",
       "       [ 4456],\n",
       "       [ 4591],\n",
       "       [ 4898],\n",
       "       [ 5076],\n",
       "       [ 4986],\n",
       "       [ 4903],\n",
       "       [ 4987],\n",
       "       [ 4959],\n",
       "       [ 4996],\n",
       "       [ 4949],\n",
       "       [ 5035],\n",
       "       [ 5134],\n",
       "       [ 5042],\n",
       "       [ 4954],\n",
       "       [ 5161],\n",
       "       [ 5154],\n",
       "       [ 5019],\n",
       "       [ 4928],\n",
       "       [ 5038],\n",
       "       [ 4959],\n",
       "       [ 4922],\n",
       "       [ 4923],\n",
       "       [ 4913],\n",
       "       [ 4939],\n",
       "       [ 4849],\n",
       "       [ 4875],\n",
       "       [ 4602],\n",
       "       [ 4543],\n",
       "       [ 4326],\n",
       "       [ 4452],\n",
       "       [ 4394],\n",
       "       [ 4459],\n",
       "       [ 4329],\n",
       "       [ 4363],\n",
       "       [ 4305],\n",
       "       [ 4305],\n",
       "       [ 4350],\n",
       "       [ 4144],\n",
       "       [ 4396],\n",
       "       [ 4489],\n",
       "       [ 4644],\n",
       "       [ 4731],\n",
       "       [ 4634],\n",
       "       [ 4618],\n",
       "       [ 4705],\n",
       "       [ 4927],\n",
       "       [ 5063],\n",
       "       [ 5022],\n",
       "       [ 5437],\n",
       "       [ 5523],\n",
       "       [ 6140],\n",
       "       [ 6636],\n",
       "       [ 7501],\n",
       "       [ 7520],\n",
       "       [ 7978],\n",
       "       [ 8210],\n",
       "       [ 8433],\n",
       "       [ 8220],\n",
       "       [ 8127],\n",
       "       [ 7928],\n",
       "       [ 7923],\n",
       "       [ 7897],\n",
       "       [ 7794],\n",
       "       [ 7744],\n",
       "       [ 7534],\n",
       "       [ 7326],\n",
       "       [ 7230],\n",
       "       [ 7330],\n",
       "       [ 7053],\n",
       "       [ 7322],\n",
       "       [ 7490],\n",
       "       [ 7518],\n",
       "       [ 7380],\n",
       "       [ 7430],\n",
       "       [ 7620],\n",
       "       [ 7545],\n",
       "       [ 7280],\n",
       "       [ 7443],\n",
       "       [ 7307],\n",
       "       [ 7059],\n",
       "       [ 6911],\n",
       "       [ 7134],\n",
       "       [ 6829],\n",
       "       [ 6925],\n",
       "       [ 6751],\n",
       "       [ 6763],\n",
       "       [ 6815],\n",
       "       [ 6386],\n",
       "       [ 6489],\n",
       "       [ 6318],\n",
       "       [ 6337],\n",
       "       [ 6180],\n",
       "       [ 6127],\n",
       "       [ 6028],\n",
       "       [ 6309],\n",
       "       [ 6080],\n",
       "       [ 6125],\n",
       "       [ 5947],\n",
       "       [ 6077],\n",
       "       [ 6228],\n",
       "       [ 6109],\n",
       "       [ 6173],\n",
       "       [ 6109],\n",
       "       [ 6069],\n",
       "       [ 5840],\n",
       "       [ 5959],\n",
       "       [ 5996],\n",
       "       [ 6320],\n",
       "       [ 6190],\n",
       "       [ 6296],\n",
       "       [ 6238],\n",
       "       [ 6325],\n",
       "       [ 6683],\n",
       "       [ 6702],\n",
       "       [ 6729],\n",
       "       [ 7358],\n",
       "       [ 7984],\n",
       "       [ 8098],\n",
       "       [ 8363],\n",
       "       [ 8281],\n",
       "       [ 8021],\n",
       "       [ 8088],\n",
       "       [ 8023],\n",
       "       [ 7718],\n",
       "       [ 8071],\n",
       "       [ 8051],\n",
       "       [ 7982],\n",
       "       [ 7869],\n",
       "       [ 8174],\n",
       "       [ 8098],\n",
       "       [ 7863],\n",
       "       [ 8036],\n",
       "       [ 8230],\n",
       "       [ 8646],\n",
       "       [ 9029],\n",
       "       [ 9267],\n",
       "       [ 9397],\n",
       "       [ 9705],\n",
       "       [ 9895],\n",
       "       [10244],\n",
       "       [10335],\n",
       "       [10538],\n",
       "       [10849],\n",
       "       [10881],\n",
       "       [11217],\n",
       "       [11529],\n",
       "       [11938],\n",
       "       [12051],\n",
       "       [11534],\n",
       "       [11545],\n",
       "       [11408],\n",
       "       [11268],\n",
       "       [11154],\n",
       "       [11246],\n",
       "       [10548],\n",
       "       [10623],\n",
       "       [10282],\n",
       "       [ 9887],\n",
       "       [ 9499],\n",
       "       [ 9331],\n",
       "       [ 9008],\n",
       "       [ 8791],\n",
       "       [ 8746],\n",
       "       [ 8762],\n",
       "       [ 8456],\n",
       "       [ 8226],\n",
       "       [ 8537],\n",
       "       [ 8519],\n",
       "       [ 8367],\n",
       "       [ 8381],\n",
       "       [ 8198],\n",
       "       [ 8358],\n",
       "       [ 8423],\n",
       "       [ 8321],\n",
       "       [ 8339],\n",
       "       [ 8395],\n",
       "       [ 8302],\n",
       "       [ 8460],\n",
       "       [ 8513],\n",
       "       [ 8196],\n",
       "       [ 8248],\n",
       "       [ 8298],\n",
       "       [ 8128],\n",
       "       [ 8138],\n",
       "       [ 7795],\n",
       "       [ 8402],\n",
       "       [ 8383],\n",
       "       [ 8364],\n",
       "       [ 8439],\n",
       "       [ 8508],\n",
       "       [ 8319],\n",
       "       [ 8135],\n",
       "       [ 8310],\n",
       "       [ 8243],\n",
       "       [ 8159],\n",
       "       [ 7883],\n",
       "       [ 7892],\n",
       "       [ 7865],\n",
       "       [ 7862],\n",
       "       [ 7542],\n",
       "       [ 7574],\n",
       "       [ 7398],\n",
       "       [ 7268],\n",
       "       [ 7261],\n",
       "       [ 7102],\n",
       "       [ 7227],\n",
       "       [ 7035],\n",
       "       [ 6936],\n",
       "       [ 6953],\n",
       "       [ 6929],\n",
       "       [ 6876],\n",
       "       [ 6601],\n",
       "       [ 6779],\n",
       "       [ 6546],\n",
       "       [ 6605],\n",
       "       [ 6843],\n",
       "       [ 6604],\n",
       "       [ 6568],\n",
       "       [ 6537],\n",
       "       [ 6518],\n",
       "       [ 6682],\n",
       "       [ 6359],\n",
       "       [ 6205],\n",
       "       [ 6468],\n",
       "       [ 6375],\n",
       "       [ 6577],\n",
       "       [ 6495],\n",
       "       [ 6511],\n",
       "       [ 6590],\n",
       "       [ 6630],\n",
       "       [ 6725],\n",
       "       [ 6667],\n",
       "       [ 6752],\n",
       "       [ 6651],\n",
       "       [ 6598],\n",
       "       [ 6797],\n",
       "       [ 6742],\n",
       "       [ 6590],\n",
       "       [ 6922],\n",
       "       [ 7188],\n",
       "       [ 7368],\n",
       "       [ 7459],\n",
       "       [ 7764],\n",
       "       [ 7901],\n",
       "       [ 8015],\n",
       "       [ 8265],\n",
       "       [ 8586],\n",
       "       [ 8439],\n",
       "       [ 8736],\n",
       "       [ 8692],\n",
       "       [ 8586],\n",
       "       [ 8666],\n",
       "       [ 8722],\n",
       "       [ 8842],\n",
       "       [ 8931],\n",
       "       [ 9198],\n",
       "       [ 9283],\n",
       "       [ 9454],\n",
       "       [ 9460],\n",
       "       [ 9415],\n",
       "       [ 9744],\n",
       "       [10040],\n",
       "       [ 9850],\n",
       "       [ 9787],\n",
       "       [ 9781],\n",
       "       [ 9398],\n",
       "       [ 9565],\n",
       "       [ 9557],\n",
       "       [ 9325],\n",
       "       [ 9183],\n",
       "       [ 9056],\n",
       "       [ 9110],\n",
       "       [ 9149],\n",
       "       [ 9121],\n",
       "       [ 8930],\n",
       "       [ 8763],\n",
       "       [ 8714],\n",
       "       [ 8750],\n",
       "       [ 8542],\n",
       "       [ 8477],\n",
       "       [ 8630],\n",
       "       [ 8583],\n",
       "       [ 8470],\n",
       "       [ 8331],\n",
       "       [ 7915],\n",
       "       [ 7927],\n",
       "       [ 7946],\n",
       "       [ 7933],\n",
       "       [ 7734],\n",
       "       [ 7632],\n",
       "       [ 7375],\n",
       "       [ 7230],\n",
       "       [ 7375],\n",
       "       [ 7187],\n",
       "       [ 7153],\n",
       "       [ 7645],\n",
       "       [ 7430],\n",
       "       [ 7427],\n",
       "       [ 7527],\n",
       "       [ 7484],\n",
       "       [ 7478],\n",
       "       [ 7328],\n",
       "       [ 7426],\n",
       "       [ 7423],\n",
       "       [ 7491],\n",
       "       [ 7313],\n",
       "       [ 7318],\n",
       "       [ 7415],\n",
       "       [ 7423],\n",
       "       [ 7095],\n",
       "       [ 7337],\n",
       "       [ 6882],\n",
       "       [ 6979],\n",
       "       [ 7031],\n",
       "       [ 7236],\n",
       "       [ 7253],\n",
       "       [ 7158],\n",
       "       [ 7102],\n",
       "       [ 7000],\n",
       "       [ 6873],\n",
       "       [ 6655],\n",
       "       [ 6799],\n",
       "       [ 6655],\n",
       "       [ 6608],\n",
       "       [ 6656],\n",
       "       [ 6454],\n",
       "       [ 6308],\n",
       "       [ 6476],\n",
       "       [ 6368],\n",
       "       [ 6306],\n",
       "       [ 6422],\n",
       "       [ 5941],\n",
       "       [ 6047],\n",
       "       [ 6212],\n",
       "       [ 6259],\n",
       "       [ 6179],\n",
       "       [ 6300],\n",
       "       [ 6280],\n",
       "       [ 6100],\n",
       "       [ 6032],\n",
       "       [ 5976],\n",
       "       [ 6111],\n",
       "       [ 5783],\n",
       "       [ 6004],\n",
       "       [ 5796],\n",
       "       [ 5951],\n",
       "       [ 6025],\n",
       "       [ 5838],\n",
       "       [ 5915],\n",
       "       [ 5778],\n",
       "       [ 5716],\n",
       "       [ 5653],\n",
       "       [ 5708],\n",
       "       [ 5858],\n",
       "       [ 5733],\n",
       "       [ 5481],\n",
       "       [ 5758],\n",
       "       [ 5651],\n",
       "       [ 5747],\n",
       "       [ 5853],\n",
       "       [ 5625],\n",
       "       [ 5534],\n",
       "       [ 5639],\n",
       "       [ 5634],\n",
       "       [ 6023],\n",
       "       [ 6089],\n",
       "       [ 6141],\n",
       "       [ 6271],\n",
       "       [ 6226],\n",
       "       [ 6484],\n",
       "       [ 6583],\n",
       "       [ 7042],\n",
       "       [ 7142],\n",
       "       [ 7694],\n",
       "       [ 8003],\n",
       "       [ 8258],\n",
       "       [ 8182],\n",
       "       [ 8215],\n",
       "       [ 8304],\n",
       "       [ 8599],\n",
       "       [ 8399],\n",
       "       [ 8393],\n",
       "       [ 8390],\n",
       "       [ 8304],\n",
       "       [ 8251],\n",
       "       [ 8307],\n",
       "       [ 8520],\n",
       "       [ 8640],\n",
       "       [ 8520],\n",
       "       [ 8618],\n",
       "       [ 8588],\n",
       "       [ 8842],\n",
       "       [ 8957],\n",
       "       [ 9266],\n",
       "       [ 9011],\n",
       "       [ 8896],\n",
       "       [ 8921],\n",
       "       [ 8732],\n",
       "       [ 8576],\n",
       "       [ 8317],\n",
       "       [ 8370],\n",
       "       [ 8167],\n",
       "       [ 8491],\n",
       "       [ 8170],\n",
       "       [ 8212],\n",
       "       [ 8286],\n",
       "       [ 8136],\n",
       "       [ 7990],\n",
       "       [ 7927],\n",
       "       [ 8061],\n",
       "       [ 7932],\n",
       "       [ 7934],\n",
       "       [ 7784],\n",
       "       [ 7980],\n",
       "       [ 7737],\n",
       "       [ 7672],\n",
       "       [ 7651],\n",
       "       [ 7524],\n",
       "       [ 7406],\n",
       "       [ 7345],\n",
       "       [ 7553],\n",
       "       [ 7453],\n",
       "       [ 7566],\n",
       "       [ 7279],\n",
       "       [ 7064],\n",
       "       [ 7184],\n",
       "       [ 7072],\n",
       "       [ 7120],\n",
       "       [ 6980],\n",
       "       [ 7001],\n",
       "       [ 7175],\n",
       "       [ 7091],\n",
       "       [ 6847],\n",
       "       [ 6727],\n",
       "       [ 6872],\n",
       "       [ 6762],\n",
       "       [ 7116],\n",
       "       [ 6927],\n",
       "       [ 6731],\n",
       "       [ 6850],\n",
       "       [ 6766],\n",
       "       [ 6979],\n",
       "       [ 7149],\n",
       "       [ 7067],\n",
       "       [ 7170],\n",
       "       [ 7237],\n",
       "       [ 7240],\n",
       "       [ 7645],\n",
       "       [ 7685],\n",
       "       [ 7497],\n",
       "       [ 7822],\n",
       "       [ 7637],\n",
       "       [ 8395],\n",
       "       [ 8575],\n",
       "       [ 8937],\n",
       "       [ 9438],\n",
       "       [ 9494],\n",
       "       [10074],\n",
       "       [10538],\n",
       "       [11286],\n",
       "       [12058],\n",
       "       [12898],\n",
       "       [13426],\n",
       "       [13853],\n",
       "       [14499],\n",
       "       [14707],\n",
       "       [14601],\n",
       "       [14814],\n",
       "       [15009],\n",
       "       [15352],\n",
       "       [15219],\n",
       "       [15098],\n",
       "       [15046],\n",
       "       [15113],\n",
       "       [15202],\n",
       "       [15325],\n",
       "       [14849],\n",
       "       [14474],\n",
       "       [14512],\n",
       "       [14648],\n",
       "       [14579],\n",
       "       [14516],\n",
       "       [15081],\n",
       "       [14348],\n",
       "       [14013],\n",
       "       [13820],\n",
       "       [13737],\n",
       "       [13957],\n",
       "       [13855],\n",
       "       [13962],\n",
       "       [13763],\n",
       "       [13818],\n",
       "       [13948],\n",
       "       [13594],\n",
       "       [13302],\n",
       "       [13093],\n",
       "       [12797],\n",
       "       [12813],\n",
       "       [12713],\n",
       "       [12646],\n",
       "       [12660],\n",
       "       [12692],\n",
       "       [12656],\n",
       "       [12471],\n",
       "       [12115],\n",
       "       [12124],\n",
       "       [12005],\n",
       "       [12298],\n",
       "       [12471],\n",
       "       [11950],\n",
       "       [11689],\n",
       "       [11760],\n",
       "       [11654],\n",
       "       [11751],\n",
       "       [11335],\n",
       "       [11279],\n",
       "       [11270],\n",
       "       [11136],\n",
       "       [10787],\n",
       "       [10404],\n",
       "       [10202],\n",
       "       [10349],\n",
       "       [10380],\n",
       "       [ 9702],\n",
       "       [ 9859],\n",
       "       [ 9460],\n",
       "       [ 9608],\n",
       "       [ 9599],\n",
       "       [ 9262],\n",
       "       [ 8990],\n",
       "       [ 9090],\n",
       "       [ 8717],\n",
       "       [ 8903],\n",
       "       [ 8610],\n",
       "       [ 8504],\n",
       "       [ 8526],\n",
       "       [ 8814],\n",
       "       [ 8249],\n",
       "       [ 8194],\n",
       "       [ 7990],\n",
       "       [ 7892],\n",
       "       [ 7918],\n",
       "       [ 7995],\n",
       "       [ 7916],\n",
       "       [ 7749],\n",
       "       [ 7771],\n",
       "       [ 7932],\n",
       "       [ 7928],\n",
       "       [ 7626],\n",
       "       [ 7795],\n",
       "       [ 7700],\n",
       "       [ 7817],\n",
       "       [ 7933],\n",
       "       [ 7819],\n",
       "       [ 7480],\n",
       "       [ 7503],\n",
       "       [ 7565],\n",
       "       [ 7437],\n",
       "       [ 7078],\n",
       "       [ 7019],\n",
       "       [ 6991],\n",
       "       [ 6948],\n",
       "       [ 6927],\n",
       "       [ 7115],\n",
       "       [ 6791],\n",
       "       [ 6588],\n",
       "       [ 6682],\n",
       "       [ 6572],\n",
       "       [ 6641],\n",
       "       [ 6687],\n",
       "       [ 6486],\n",
       "       [ 6335],\n",
       "       [ 6128],\n",
       "       [ 6537],\n",
       "       [ 6245],\n",
       "       [ 6197],\n",
       "       [ 5986],\n",
       "       [ 6112],\n",
       "       [ 6018],\n",
       "       [ 6294],\n",
       "       [ 6535],\n",
       "       [ 6235],\n",
       "       [ 6211],\n",
       "       [ 5824],\n",
       "       [ 5888],\n",
       "       [ 5975],\n",
       "       [ 6063]], dtype=int64)"
      ]
     },
     "execution_count": 39,
     "metadata": {},
     "output_type": "execute_result"
    }
   ],
   "source": [
    "y"
   ]
  },
  {
   "cell_type": "code",
   "execution_count": 40,
   "metadata": {},
   "outputs": [],
   "source": [
    "# split dataset into 2 parts, training dataset and test dataset\n",
    "# Purpose is to see how good or bad the model (prediction) is on un-seen data\n",
    "#数据   预测集 和 测试集     做一个20%的划分， 80%的数据用来做预测， 20%的数据用来做测试    \n",
    "#  random_state=2019 控制伪随机序列\n",
    "X_train, X_test, y_train, y_test = train_test_split(X, y, test_size=0.20, random_state=2019)"
   ]
  },
  {
   "cell_type": "code",
   "execution_count": 41,
   "metadata": {},
   "outputs": [
    {
     "name": "stdout",
     "output_type": "stream",
     "text": [
      "(500, 4)\n",
      "(125, 4)\n"
     ]
    }
   ],
   "source": [
    "print(X_train.shape)\n",
    "print(X_test.shape)"
   ]
  },
  {
   "cell_type": "markdown",
   "metadata": {},
   "source": [
    "<hr/>"
   ]
  },
  {
   "cell_type": "markdown",
   "metadata": {},
   "source": [
    "### Now data is all set, we are ready to build a model and make predictions\n",
    "#### [Standard Linear Regression](https://scikit-learn.org/stable/modules/generated/sklearn.linear_model.LinearRegression.html)"
   ]
  },
  {
   "cell_type": "code",
   "execution_count": 70,
   "metadata": {},
   "outputs": [
    {
     "data": {
      "text/plain": [
       "LinearRegression(copy_X=True, fit_intercept=True, n_jobs=None, normalize=False)"
      ]
     },
     "execution_count": 70,
     "metadata": {},
     "output_type": "execute_result"
    }
   ],
   "source": [
    "# create a linear regression object lr\n",
    "lr = LinearRegression()\n",
    "# fitting, trainning  \n",
    "lr.fit(X_train, y_train)"
   ]
  },
  {
   "cell_type": "code",
   "execution_count": 71,
   "metadata": {},
   "outputs": [
    {
     "name": "stdout",
     "output_type": "stream",
     "text": [
      "969.7755899556098\n",
      "0.8525458768631426\n"
     ]
    }
   ],
   "source": [
    "# now we have a model, we can use it for prediction\n",
    "#在训练数据上 \n",
    "pred_train_lr= lr.predict(X_train)   # 给出 X_train ，算出y 付给变量 pred_train_lr\n",
    "\n",
    "print(np.sqrt(mean_squared_error(y_train, pred_train_lr)))  # 原始值y - 预测y  下面的公式 误差平方和\n",
    "print(r2_score(y_train, pred_train_lr))      # r2_score 越接近 1 越好"
   ]
  },
  {
   "cell_type": "code",
   "execution_count": 72,
   "metadata": {},
   "outputs": [
    {
     "name": "stdout",
     "output_type": "stream",
     "text": [
      "1020.290065765756\n",
      "0.8495883980227337\n"
     ]
    }
   ],
   "source": [
    "# 在测试数据中\n",
    "\n",
    "pred_test_lr= lr.predict(X_test)\n",
    "\n",
    "print(np.sqrt(mean_squared_error(y_test,pred_test_lr))) \n",
    "print(r2_score(y_test, pred_test_lr))"
   ]
  },
  {
   "cell_type": "markdown",
   "metadata": {},
   "source": [
    "$r2 = 1 - \\frac {\\sum (y - \\hat y)^2} {\\sum (y - \\overline y)^2}$"
   ]
  },
  {
   "cell_type": "code",
   "execution_count": 73,
   "metadata": {},
   "outputs": [],
   "source": [
    "# r2 表示预测值跟真实值之间的偏差程度  1 后面的那一堆肯定是一个小数，当r2越接近于1的时候越好"
   ]
  },
  {
   "cell_type": "code",
   "execution_count": 74,
   "metadata": {
    "scrolled": true
   },
   "outputs": [
    {
     "data": {
      "text/plain": [
       "array([[  8.8],\n",
       "       [-13.6],\n",
       "       [  6.4],\n",
       "       [ -3.5],\n",
       "       [-26.5],\n",
       "       [-13.5],\n",
       "       [ 12.4],\n",
       "       [  6.9],\n",
       "       [ -5.1],\n",
       "       [-15.1],\n",
       "       [ 27.5],\n",
       "       [  6. ],\n",
       "       [ -0.7],\n",
       "       [ 18. ],\n",
       "       [ -6.7],\n",
       "       [ 17.2],\n",
       "       [  6.8],\n",
       "       [  2.6],\n",
       "       [  4.9],\n",
       "       [ -4.6],\n",
       "       [  2.7],\n",
       "       [ 12.2],\n",
       "       [  9.7],\n",
       "       [-13.8],\n",
       "       [ 32.6],\n",
       "       [ -3.5],\n",
       "       [ -2.6],\n",
       "       [ -1.4],\n",
       "       [-17.7],\n",
       "       [ 35.7],\n",
       "       [ 28. ],\n",
       "       [ -0.9],\n",
       "       [ -4.4],\n",
       "       [ -4.5],\n",
       "       [ 26.9],\n",
       "       [  1.4],\n",
       "       [-10.9],\n",
       "       [-10.4],\n",
       "       [ -8.1],\n",
       "       [ -7.5],\n",
       "       [ 20.8],\n",
       "       [ -1.2],\n",
       "       [ 15. ],\n",
       "       [ -6.8],\n",
       "       [ -5.5],\n",
       "       [-11.5],\n",
       "       [ 32.4],\n",
       "       [ 10. ],\n",
       "       [ 18.7],\n",
       "       [ 31. ],\n",
       "       [ -3.7],\n",
       "       [ 15.7],\n",
       "       [  1.8],\n",
       "       [  1.4],\n",
       "       [  1.2],\n",
       "       [ 10. ],\n",
       "       [  6.9],\n",
       "       [ 14.8],\n",
       "       [ -1.5],\n",
       "       [ 18.2],\n",
       "       [ -8.9],\n",
       "       [  8.9],\n",
       "       [  2.1],\n",
       "       [ 18.5],\n",
       "       [ -1.3],\n",
       "       [  3.8],\n",
       "       [ 34.6],\n",
       "       [ 11.9],\n",
       "       [ 20.1],\n",
       "       [  6.3],\n",
       "       [ -0.6],\n",
       "       [ 16.4],\n",
       "       [ 25.7],\n",
       "       [-14.8],\n",
       "       [ 14.8],\n",
       "       [ 20.3],\n",
       "       [ 11.2],\n",
       "       [ -6.3],\n",
       "       [ 23.3],\n",
       "       [ 11.4],\n",
       "       [ -2.2],\n",
       "       [  8.4],\n",
       "       [ -4.5],\n",
       "       [ -6.1],\n",
       "       [-12.9],\n",
       "       [ 40.1],\n",
       "       [  8.5],\n",
       "       [ -5.6],\n",
       "       [ 24.3],\n",
       "       [ -7.8],\n",
       "       [ -8.3],\n",
       "       [ -1.9],\n",
       "       [ -5. ],\n",
       "       [ -1.4],\n",
       "       [  8.3],\n",
       "       [  5.4],\n",
       "       [-17.3],\n",
       "       [ 16.1],\n",
       "       [ -8. ],\n",
       "       [ -8.5],\n",
       "       [ 28.7],\n",
       "       [ 21.8],\n",
       "       [ 19.2],\n",
       "       [ 13.3],\n",
       "       [  2.5],\n",
       "       [ -7.5],\n",
       "       [  0.9],\n",
       "       [ -0.6],\n",
       "       [ -5.8],\n",
       "       [ -3.9],\n",
       "       [ 13.2],\n",
       "       [ 14.5],\n",
       "       [ 27.3],\n",
       "       [ 30.7],\n",
       "       [-20.7],\n",
       "       [-13.5],\n",
       "       [ -7. ],\n",
       "       [ 18.5],\n",
       "       [  0.4],\n",
       "       [ 21. ],\n",
       "       [ -0.1],\n",
       "       [ 13.4],\n",
       "       [  8.3],\n",
       "       [  7.2],\n",
       "       [  5.1]])"
      ]
     },
     "execution_count": 74,
     "metadata": {},
     "output_type": "execute_result"
    }
   ],
   "source": [
    "error = (pred_test_lr - y_test) * 100 / y_test\n",
    "error.round(1)  # round() 显示小数点后面几位"
   ]
  },
  {
   "cell_type": "code",
   "execution_count": 75,
   "metadata": {},
   "outputs": [
    {
     "name": "stdout",
     "output_type": "stream",
     "text": [
      "[[-1.47006100e+00  5.48488587e+02  2.48484059e+02  1.61845371e-01]]\n",
      "[-33536.8369084]\n"
     ]
    }
   ],
   "source": [
    "print(lr.coef_)       # 系数\n",
    "print(lr.intercept_) # 截距 常数项"
   ]
  },
  {
   "cell_type": "code",
   "execution_count": 76,
   "metadata": {},
   "outputs": [
    {
     "data": {
      "text/plain": [
       "array([[7.04710000e+03, 6.30000000e+00, 4.50000000e+00, 2.84810000e+05],\n",
       "       [2.64080000e+03, 7.10000000e+00, 9.10000000e+00, 2.37602000e+05],\n",
       "       [1.03921000e+04, 2.19000000e+01, 7.10000000e+00, 3.10781705e+05],\n",
       "       [1.70820000e+03, 6.00000000e+00, 1.02000000e+01, 2.26849000e+05],\n",
       "       [9.76600000e+03, 1.17000000e+01, 5.50000000e+00, 3.06402000e+05],\n",
       "       [2.83520000e+03, 6.70000000e+00, 9.70000000e+00, 2.40094000e+05],\n",
       "       [7.81100000e+02, 5.60000000e+00, 1.22000000e+01, 2.10278000e+05],\n",
       "       [7.67860000e+03, 1.15000000e+01, 5.60000000e+00, 2.90584000e+05],\n",
       "       [8.64560000e+03, 9.00000000e+00, 3.10000000e+00, 2.95490000e+05],\n",
       "       [2.22640000e+03, 1.09000000e+01, 1.03000000e+01, 2.33781000e+05],\n",
       "       [8.32800000e+02, 5.50000000e+00, 1.27000000e+01, 2.11254000e+05],\n",
       "       [6.65600000e+02, 5.90000000e+00, 1.32000000e+01, 2.06238000e+05],\n",
       "       [8.21890000e+03, 8.90000000e+00, 5.30000000e+00, 2.93463000e+05],\n",
       "       [6.52900000e+02, 5.40000000e+00, 1.34000000e+01, 2.05295000e+05],\n",
       "       [1.87000000e+03, 7.40000000e+00, 1.09000000e+01, 2.28937000e+05],\n",
       "       [1.10998000e+04, 1.99000000e+01, 8.80000000e+00, 3.14853978e+05],\n",
       "       [1.53120000e+03, 5.90000000e+00, 1.12000000e+01, 2.24235000e+05],\n",
       "       [1.25710000e+03, 7.90000000e+00, 1.03000000e+01, 2.19859000e+05],\n",
       "       [4.64600000e+03, 9.30000000e+00, 6.80000000e+00, 2.62352000e+05],\n",
       "       [1.39532000e+04, 9.30000000e+00, 7.50000000e+00, 3.27048704e+05],\n",
       "       [1.12054000e+04, 1.71000000e+01, 6.40000000e+00, 3.15817855e+05],\n",
       "       [1.11405000e+04, 1.77000000e+01, 1.20000000e+01, 3.15232752e+05],\n",
       "       [1.14876000e+04, 1.71000000e+01, 6.20000000e+00, 3.17228026e+05],\n",
       "       [2.99710000e+03, 7.10000000e+00, 7.00000000e+00, 2.41620000e+05],\n",
       "       [6.13290000e+03, 6.80000000e+00, 5.90000000e+00, 2.78198000e+05],\n",
       "       [2.43160000e+03, 8.30000000e+00, 1.15000000e+01, 2.35675000e+05],\n",
       "       [1.15800000e+03, 7.90000000e+00, 1.17000000e+01, 2.18233000e+05],\n",
       "       [3.22140000e+03, 6.30000000e+00, 8.60000000e+00, 2.44131000e+05],\n",
       "       [9.84170000e+03, 1.60000000e+01, 6.00000000e+00, 3.07439000e+05],\n",
       "       [8.76900000e+02, 5.10000000e+00, 1.44000000e+01, 2.12634000e+05],\n",
       "       [5.87170000e+03, 6.90000000e+00, 6.80000000e+00, 2.75836000e+05],\n",
       "       [1.38615000e+04, 9.80000000e+00, 7.70000000e+00, 3.26887866e+05],\n",
       "       [1.63390000e+03, 5.50000000e+00, 9.40000000e+00, 2.25547000e+05],\n",
       "       [3.21370000e+03, 6.20000000e+00, 8.10000000e+00, 2.43981000e+05],\n",
       "       [6.10180000e+03, 6.80000000e+00, 6.20000000e+00, 2.77992000e+05],\n",
       "       [1.06090000e+03, 8.60000000e+00, 1.34000000e+01, 2.16587000e+05],\n",
       "       [9.89780000e+03, 8.60000000e+00, 3.10000000e+00, 3.03054000e+05],\n",
       "       [9.66730000e+03, 7.70000000e+00, 3.80000000e+00, 3.01739000e+05],\n",
       "       [8.93850000e+03, 8.50000000e+00, 3.50000000e+00, 2.97207000e+05],\n",
       "       [4.30050000e+03, 9.00000000e+00, 8.00000000e+00, 2.58147000e+05],\n",
       "       [8.25800000e+02, 5.20000000e+00, 1.25000000e+01, 2.11120000e+05],\n",
       "       [1.31857000e+04, 1.01000000e+01, 7.00000000e+00, 3.24861757e+05],\n",
       "       [4.85120000e+03, 8.00000000e+00, 7.50000000e+00, 2.65044000e+05],\n",
       "       [3.82170000e+03, 5.40000000e+00, 8.70000000e+00, 2.50132000e+05],\n",
       "       [9.70960000e+03, 8.70000000e+00, 3.70000000e+00, 3.02004000e+05],\n",
       "       [2.77110000e+03, 7.00000000e+00, 9.00000000e+00, 2.39307000e+05],\n",
       "       [8.69200000e+02, 5.40000000e+00, 1.31000000e+01, 2.12289000e+05],\n",
       "       [1.06368000e+04, 2.24000000e+01, 7.20000000e+00, 3.11791223e+05],\n",
       "       [1.01514000e+04, 2.52000000e+01, 6.90000000e+00, 3.09548502e+05],\n",
       "       [5.66110000e+03, 7.60000000e+00, 6.40000000e+00, 2.74126000e+05],\n",
       "       [1.24730000e+03, 7.30000000e+00, 1.05000000e+01, 2.19684000e+05],\n",
       "       [6.79400000e+02, 6.30000000e+00, 1.33000000e+01, 2.06668000e+05],\n",
       "       [1.42580000e+03, 6.00000000e+00, 1.00000000e+01, 2.22379000e+05],\n",
       "       [1.26248000e+04, 1.12000000e+01, 7.10000000e+00, 3.22721212e+05],\n",
       "       [1.02282000e+04, 2.10000000e+01, 6.90000000e+00, 3.09957775e+05],\n",
       "       [1.06775000e+04, 2.20000000e+01, 7.30000000e+00, 3.11997049e+05],\n",
       "       [6.58300000e+02, 5.20000000e+00, 1.31000000e+01, 2.05788000e+05],\n",
       "       [1.17071000e+04, 1.57000000e+01, 7.20000000e+00, 3.18089218e+05],\n",
       "       [1.28050000e+03, 7.10000000e+00, 1.05000000e+01, 2.20239000e+05],\n",
       "       [7.31820000e+03, 1.10000000e+01, 6.40000000e+00, 2.87864000e+05],\n",
       "       [3.97600000e+03, 7.20000000e+00, 9.30000000e+00, 2.54435000e+05],\n",
       "       [4.76260000e+03, 8.90000000e+00, 6.50000000e+00, 2.63724000e+05],\n",
       "       [1.37750000e+03, 6.20000000e+00, 1.10000000e+01, 2.21792000e+05],\n",
       "       [5.43400000e+03, 8.10000000e+00, 6.20000000e+00, 2.71585000e+05],\n",
       "       [1.02490000e+04, 2.03000000e+01, 6.70000000e+00, 3.10176466e+05],\n",
       "       [1.05876000e+04, 2.09000000e+01, 6.90000000e+00, 3.11436238e+05],\n",
       "       [5.44000000e+02, 4.60000000e+00, 1.23000000e+01, 2.00208000e+05],\n",
       "       [7.07220000e+03, 6.80000000e+00, 5.60000000e+00, 2.85309000e+05],\n",
       "       [6.53530000e+03, 5.80000000e+00, 5.40000000e+00, 2.80976000e+05],\n",
       "       [1.10041000e+04, 1.84000000e+01, 8.00000000e+00, 3.14422341e+05],\n",
       "       [1.18900000e+03, 8.40000000e+00, 1.14000000e+01, 2.18834000e+05],\n",
       "       [6.82000000e+02, 6.40000000e+00, 1.35000000e+01, 2.06855000e+05],\n",
       "       [5.27500000e+03, 8.40000000e+00, 6.60000000e+00, 2.69976000e+05],\n",
       "       [2.85750000e+03, 6.80000000e+00, 9.30000000e+00, 2.40271000e+05],\n",
       "       [5.08570000e+03, 8.30000000e+00, 6.70000000e+00, 2.68151000e+05],\n",
       "       [4.85080000e+03, 8.10000000e+00, 7.80000000e+00, 2.65270000e+05],\n",
       "       [4.72060000e+03, 9.00000000e+00, 7.00000000e+00, 2.63436000e+05],\n",
       "       [3.77580000e+03, 5.20000000e+00, 8.70000000e+00, 2.49565000e+05],\n",
       "       [4.81290000e+03, 1.00000000e+01, 7.10000000e+00, 2.64301000e+05],\n",
       "       [5.88900000e+02, 4.00000000e+00, 1.02000000e+01, 2.02023000e+05],\n",
       "       [1.14050000e+03, 7.80000000e+00, 1.14000000e+01, 2.17861000e+05],\n",
       "       [1.16445000e+04, 1.58000000e+01, 7.20000000e+00, 3.17917203e+05],\n",
       "       [1.28130000e+04, 1.07000000e+01, 6.50000000e+00, 3.23501361e+05],\n",
       "       [7.16790000e+03, 7.70000000e+00, 4.10000000e+00, 2.86341000e+05],\n",
       "       [2.61880000e+03, 6.80000000e+00, 1.03000000e+01, 2.37468000e+05],\n",
       "       [6.20500000e+02, 4.80000000e+00, 1.16000000e+01, 2.03500000e+05],\n",
       "       [1.09797000e+04, 1.91000000e+01, 8.70000000e+00, 3.13667127e+05],\n",
       "       [9.32180000e+03, 8.40000000e+00, 3.60000000e+00, 2.99263000e+05],\n",
       "       [6.22570000e+03, 6.50000000e+00, 4.90000000e+00, 2.78717000e+05],\n",
       "       [4.09950000e+03, 8.20000000e+00, 9.80000000e+00, 2.55448000e+05],\n",
       "       [8.82950000e+03, 8.80000000e+00, 2.20000000e+00, 2.96186000e+05],\n",
       "       [1.19391000e+04, 1.29000000e+01, 7.30000000e+00, 3.18893786e+05],\n",
       "       [1.65730000e+03, 5.30000000e+00, 9.70000000e+00, 2.26027000e+05],\n",
       "       [1.78050000e+03, 7.70000000e+00, 1.17000000e+01, 2.28186000e+05],\n",
       "       [7.39100000e+03, 9.50000000e+00, 5.70000000e+00, 2.88618000e+05],\n",
       "       [3.49880000e+03, 5.40000000e+00, 9.50000000e+00, 2.46530000e+05],\n",
       "       [1.46611000e+04, 8.90000000e+00, 7.70000000e+00, 3.29394993e+05],\n",
       "       [6.48500000e+02, 5.10000000e+00, 1.35000000e+01, 2.05052000e+05],\n",
       "       [4.08470000e+03, 8.10000000e+00, 9.40000000e+00, 2.55214000e+05],\n",
       "       [3.63360000e+03, 4.90000000e+00, 8.50000000e+00, 2.48067000e+05],\n",
       "       [8.44300000e+02, 5.00000000e+00, 1.36000000e+01, 2.11746000e+05],\n",
       "       [5.32850000e+03, 8.30000000e+00, 6.40000000e+00, 2.70581000e+05],\n",
       "       [6.40210000e+03, 6.10000000e+00, 4.60000000e+00, 2.80203000e+05],\n",
       "       [7.76300000e+02, 6.00000000e+00, 1.20000000e+01, 2.10075000e+05],\n",
       "       [1.24228000e+04, 1.11000000e+01, 7.30000000e+00, 3.21856265e+05],\n",
       "       [4.02050000e+03, 7.80000000e+00, 9.70000000e+00, 2.54964000e+05],\n",
       "       [4.33640000e+03, 9.30000000e+00, 1.06000000e+01, 2.58413000e+05],\n",
       "       [1.32741000e+04, 1.01000000e+01, 7.00000000e+00, 3.25367612e+05],\n",
       "       [2.49460000e+03, 7.50000000e+00, 1.16000000e+01, 2.36348000e+05],\n",
       "       [1.90440000e+03, 7.40000000e+00, 1.09000000e+01, 2.29403000e+05],\n",
       "       [5.09750000e+03, 8.30000000e+00, 6.10000000e+00, 2.67943000e+05],\n",
       "       [5.37860000e+03, 7.80000000e+00, 6.40000000e+00, 2.71125000e+05],\n",
       "       [5.76500000e+02, 4.40000000e+00, 1.11000000e+01, 2.01621000e+05],\n",
       "       [8.76600000e+02, 4.70000000e+00, 1.48000000e+01, 2.12785000e+05],\n",
       "       [2.12580000e+03, 9.70000000e+00, 1.13000000e+01, 2.32816000e+05],\n",
       "       [2.93290000e+03, 7.00000000e+00, 8.40000000e+00, 2.41274000e+05],\n",
       "       [9.79790000e+03, 8.70000000e+00, 3.50000000e+00, 3.02546000e+05],\n",
       "       [6.19620000e+03, 6.20000000e+00, 5.20000000e+00, 2.78451000e+05],\n",
       "       [8.47020000e+03, 9.40000000e+00, 3.70000000e+00, 2.94914000e+05],\n",
       "       [6.91100000e+02, 6.70000000e+00, 1.36000000e+01, 2.07260000e+05],\n",
       "       [9.61570000e+03, 8.60000000e+00, 4.20000000e+00, 3.01254000e+05],\n",
       "       [5.13280000e+03, 7.80000000e+00, 6.70000000e+00, 2.68364000e+05],\n",
       "       [7.98740000e+03, 1.06000000e+01, 5.00000000e+00, 2.92192000e+05],\n",
       "       [1.35510000e+03, 6.70000000e+00, 1.11000000e+01, 2.21629000e+05],\n",
       "       [1.51780000e+03, 5.90000000e+00, 1.11000000e+01, 2.24053000e+05]])"
      ]
     },
     "execution_count": 76,
     "metadata": {},
     "output_type": "execute_result"
    }
   ],
   "source": [
    "# PCE, POP, PSAVERT, UEMPMED  在测试集上\n",
    "X_test"
   ]
  },
  {
   "cell_type": "code",
   "execution_count": 77,
   "metadata": {},
   "outputs": [
    {
     "data": {
      "text/plain": [
       "array([[ 6772.33281044],\n",
       "       [ 7191.28385085],\n",
       "       [15260.85951566],\n",
       "       [ 6491.93448103],\n",
       "       [ 9480.27164116],\n",
       "       [ 7238.51765775],\n",
       "       [ 5450.46106844],\n",
       "       [ 9903.95758117],\n",
       "       [ 7283.99036864],\n",
       "       [ 9564.50346873],\n",
       "       [ 5601.81316769],\n",
       "       [ 5379.42844837],\n",
       "       [ 8075.02090077],\n",
       "       [ 5020.9305558 ],\n",
       "       [ 7533.83460983],\n",
       "       [14205.02160498],\n",
       "       [ 6522.70667737],\n",
       "       [ 7090.75657492],\n",
       "       [ 8884.35202927],\n",
       "       [ 5847.00119542],\n",
       "       [12073.65240869],\n",
       "       [13794.96703596],\n",
       "       [11837.33403128],\n",
       "       [ 6795.97929503],\n",
       "       [ 7668.26295892],\n",
       "       [ 8441.4926274 ],\n",
       "       [ 7321.15672832],\n",
       "       [ 6831.42196361],\n",
       "       [12019.56462881],\n",
       "       [ 5963.3575547 ],\n",
       "       [ 7948.44863696],\n",
       "       [ 6279.71600898],\n",
       "       [ 5917.4057993 ],\n",
       "       [ 6639.37373957],\n",
       "       [ 7755.18692717],\n",
       "       [ 8003.86708108],\n",
       "       [ 6447.98293557],\n",
       "       [ 6254.30444557],\n",
       "       [ 6956.4473334 ],\n",
       "       [ 8845.33261282],\n",
       "       [ 5376.17292698],\n",
       "       [ 6935.87460625],\n",
       "       [ 8479.28692878],\n",
       "       [ 6451.38709488],\n",
       "       [ 6758.65007018],\n",
       "       [ 7195.98399592],\n",
       "       [ 5760.35767134],\n",
       "       [15363.61410355],\n",
       "       [17175.43052833],\n",
       "       [ 8265.83628675],\n",
       "       [ 6797.44389198],\n",
       "       [ 5672.9789571 ],\n",
       "       [ 6133.93408608],\n",
       "       [ 8042.18037419],\n",
       "       [14825.1167167 ],\n",
       "       [15142.54757703],\n",
       "       [ 4908.53905945],\n",
       "       [11134.63561643],\n",
       "       [ 6728.76433036],\n",
       "       [ 9918.09110937],\n",
       "       [ 8057.34720813],\n",
       "       [ 8641.05411342],\n",
       "       [ 6468.11657555],\n",
       "       [ 8412.98553362],\n",
       "       [14396.29475104],\n",
       "       [14481.21032694],\n",
       "       [ 3645.58945994],\n",
       "       [ 7363.7718778 ],\n",
       "       [ 6853.58623653],\n",
       "       [13254.3278643 ],\n",
       "       [ 7572.55298163],\n",
       "       [ 5803.96755342],\n",
       "       [ 8650.25623007],\n",
       "       [ 7189.83716345],\n",
       "       [ 8603.17052211],\n",
       "       [ 8645.84608345],\n",
       "       [ 8835.2760966 ],\n",
       "       [ 6317.3988518 ],\n",
       "       [ 9412.92270567],\n",
       "       [ 3022.42339462],\n",
       "       [ 7157.28224136],\n",
       "       [11253.67046238],\n",
       "       [ 7468.44366926],\n",
       "       [ 7511.02510401],\n",
       "       [ 7335.57220721],\n",
       "       [ 4001.68363258],\n",
       "       [13725.85031463],\n",
       "       [ 6695.72658183],\n",
       "       [ 7202.80841082],\n",
       "       [ 8712.47465231],\n",
       "       [ 6792.95715852],\n",
       "       [ 9412.87743156],\n",
       "       [ 5925.53965022],\n",
       "       [ 7907.19301873],\n",
       "       [ 8936.43035625],\n",
       "       [ 6541.89001156],\n",
       "       [ 5016.38240295],\n",
       "       [ 4848.37222856],\n",
       "       [ 8542.11725605],\n",
       "       [ 6069.753772  ],\n",
       "       [ 5613.92674791],\n",
       "       [ 8564.97874569],\n",
       "       [ 6890.05121935],\n",
       "       [ 5594.36137411],\n",
       "       [ 8193.99298124],\n",
       "       [ 8506.03247091],\n",
       "       [ 9646.21342019],\n",
       "       [ 6887.79150397],\n",
       "       [ 8043.85825511],\n",
       "       [ 7558.68445444],\n",
       "       [ 8403.06952986],\n",
       "       [ 8305.12827779],\n",
       "       [ 3418.62139944],\n",
       "       [ 5868.23541254],\n",
       "       [ 9146.50857579],\n",
       "       [ 7127.38753617],\n",
       "       [ 6666.86706324],\n",
       "       [ 7113.12298294],\n",
       "       [ 7817.10200473],\n",
       "       [ 6045.53235583],\n",
       "       [ 6844.6979403 ],\n",
       "       [ 8294.15941926],\n",
       "       [ 9067.51993692],\n",
       "       [ 6773.75784605],\n",
       "       [ 6488.10123135]])"
      ]
     },
     "execution_count": 77,
     "metadata": {},
     "output_type": "execute_result"
    }
   ],
   "source": [
    "pred_test_lr"
   ]
  },
  {
   "cell_type": "code",
   "execution_count": 78,
   "metadata": {},
   "outputs": [
    {
     "data": {
      "text/html": [
       "<div>\n",
       "<style scoped>\n",
       "    .dataframe tbody tr th:only-of-type {\n",
       "        vertical-align: middle;\n",
       "    }\n",
       "\n",
       "    .dataframe tbody tr th {\n",
       "        vertical-align: top;\n",
       "    }\n",
       "\n",
       "    .dataframe thead th {\n",
       "        text-align: right;\n",
       "    }\n",
       "</style>\n",
       "<table border=\"1\" class=\"dataframe\">\n",
       "  <thead>\n",
       "    <tr style=\"text-align: right;\">\n",
       "      <th></th>\n",
       "      <th>PCE</th>\n",
       "      <th>POP</th>\n",
       "      <th>PSAVERT</th>\n",
       "      <th>UEMPMED</th>\n",
       "    </tr>\n",
       "  </thead>\n",
       "  <tbody>\n",
       "    <tr>\n",
       "      <th>0</th>\n",
       "      <td>0.0</td>\n",
       "      <td>198712.0</td>\n",
       "      <td>12.6</td>\n",
       "      <td>4.5</td>\n",
       "    </tr>\n",
       "    <tr>\n",
       "      <th>1</th>\n",
       "      <td>509.8</td>\n",
       "      <td>0.0</td>\n",
       "      <td>12.6</td>\n",
       "      <td>4.7</td>\n",
       "    </tr>\n",
       "    <tr>\n",
       "      <th>2</th>\n",
       "      <td>515.6</td>\n",
       "      <td>199113.0</td>\n",
       "      <td>0.0</td>\n",
       "      <td>4.6</td>\n",
       "    </tr>\n",
       "    <tr>\n",
       "      <th>3</th>\n",
       "      <td>512.2</td>\n",
       "      <td>199311.0</td>\n",
       "      <td>12.9</td>\n",
       "      <td>0.0</td>\n",
       "    </tr>\n",
       "    <tr>\n",
       "      <th>4</th>\n",
       "      <td>506.7</td>\n",
       "      <td>198712.0</td>\n",
       "      <td>12.6</td>\n",
       "      <td>4.5</td>\n",
       "    </tr>\n",
       "    <tr>\n",
       "      <th>5</th>\n",
       "      <td>509.8</td>\n",
       "      <td>198911.0</td>\n",
       "      <td>12.6</td>\n",
       "      <td>4.7</td>\n",
       "    </tr>\n",
       "    <tr>\n",
       "      <th>6</th>\n",
       "      <td>515.6</td>\n",
       "      <td>199113.0</td>\n",
       "      <td>11.9</td>\n",
       "      <td>4.6</td>\n",
       "    </tr>\n",
       "    <tr>\n",
       "      <th>7</th>\n",
       "      <td>512.2</td>\n",
       "      <td>199311.0</td>\n",
       "      <td>12.9</td>\n",
       "      <td>4.9</td>\n",
       "    </tr>\n",
       "  </tbody>\n",
       "</table>\n",
       "</div>"
      ],
      "text/plain": [
       "     PCE       POP  PSAVERT  UEMPMED\n",
       "0    0.0  198712.0     12.6      4.5\n",
       "1  509.8       0.0     12.6      4.7\n",
       "2  515.6  199113.0      0.0      4.6\n",
       "3  512.2  199311.0     12.9      0.0\n",
       "4  506.7  198712.0     12.6      4.5\n",
       "5  509.8  198911.0     12.6      4.7\n",
       "6  515.6  199113.0     11.9      4.6\n",
       "7  512.2  199311.0     12.9      4.9"
      ]
     },
     "execution_count": 78,
     "metadata": {},
     "output_type": "execute_result"
    }
   ],
   "source": [
    "# [-1.43323879  280.912275  569.969487  0.160432460]\n",
    "X1 = pd.read_csv('./data/unemployment/test.csv')  # 预测值\n",
    "X1"
   ]
  },
  {
   "cell_type": "code",
   "execution_count": 51,
   "metadata": {},
   "outputs": [],
   "source": [
    "Y1 = lr.predict(X1)"
   ]
  },
  {
   "cell_type": "code",
   "execution_count": 52,
   "metadata": {},
   "outputs": [
    {
     "data": {
      "text/plain": [
       "array([[ 1.08960859e+08],\n",
       "       [-3.11546142e+04],\n",
       "       [ 1.09176914e+08],\n",
       "       [ 1.09288724e+08],\n",
       "       [ 1.08960114e+08],\n",
       "       [ 1.09069259e+08],\n",
       "       [ 1.09179871e+08],\n",
       "       [ 1.09288725e+08]])"
      ]
     },
     "execution_count": 52,
     "metadata": {},
     "output_type": "execute_result"
    }
   ],
   "source": [
    "Y1"
   ]
  },
  {
   "cell_type": "code",
   "execution_count": 53,
   "metadata": {},
   "outputs": [
    {
     "data": {
      "text/plain": [
       "-1.4331951845288875"
      ]
     },
     "execution_count": 53,
     "metadata": {},
     "output_type": "execute_result"
    }
   ],
   "source": [
    "(5.57931652 - 5.57938914) * 10000000 / 506.7"
   ]
  },
  {
   "cell_type": "code",
   "execution_count": 54,
   "metadata": {},
   "outputs": [
    {
     "data": {
      "text/plain": [
       "280.9122747047674"
      ]
     },
     "execution_count": 54,
     "metadata": {},
     "output_type": "execute_result"
    }
   ],
   "source": [
    "(5.58490623 * 10000000 + 2.74791738 * 10000) / 198911.0"
   ]
  },
  {
   "cell_type": "code",
   "execution_count": 55,
   "metadata": {},
   "outputs": [
    {
     "data": {
      "text/plain": [
       "569.966386554747"
      ]
     },
     "execution_count": 55,
     "metadata": {},
     "output_type": "execute_result"
    }
   ],
   "source": [
    "(5.59053993 * 10000000 - 5.58986167 * 10000000) / 11.9"
   ]
  },
  {
   "cell_type": "code",
   "execution_count": 56,
   "metadata": {
    "scrolled": true
   },
   "outputs": [
    {
     "data": {
      "text/plain": [
       "0.16326530551423832"
      ]
     },
     "execution_count": 56,
     "metadata": {},
     "output_type": "execute_result"
    }
   ],
   "source": [
    "(5.59615948 * 10000000 - 5.59615940 * 10000000) / 4.9"
   ]
  },
  {
   "cell_type": "code",
   "execution_count": null,
   "metadata": {},
   "outputs": [],
   "source": []
  },
  {
   "cell_type": "markdown",
   "metadata": {},
   "source": [
    "#### [Ridge Regression](https://scikit-learn.org/stable/modules/generated/sklearn.linear_model.Ridge.html)"
   ]
  },
  {
   "cell_type": "code",
   "execution_count": 57,
   "metadata": {},
   "outputs": [],
   "source": [
    "#岭回归"
   ]
  },
  {
   "cell_type": "code",
   "execution_count": 58,
   "metadata": {},
   "outputs": [
    {
     "data": {
      "text/plain": [
       "Ridge(alpha=0.1, copy_X=True, fit_intercept=True, max_iter=None,\n",
       "      normalize=False, random_state=None, solver='auto', tol=0.001)"
      ]
     },
     "execution_count": 58,
     "metadata": {},
     "output_type": "execute_result"
    }
   ],
   "source": [
    "rr = Ridge(alpha=0.1)  # ridge() 新建一个岭回归的对象   alpha惩罚项   上面的数学公式已经存在 rr里面了\n",
    "                       #但是具体 这个 alpha 参数哪一个更好呢，只能不断地拿去试\n",
    "rr.fit(X_train, y_train) "
   ]
  },
  {
   "cell_type": "code",
   "execution_count": 59,
   "metadata": {},
   "outputs": [
    {
     "name": "stdout",
     "output_type": "stream",
     "text": [
      "969.7755908910011\n",
      "0.8525458765786906\n"
     ]
    }
   ],
   "source": [
    "pred_train_rr= rr.predict(X_train)  # X_train得到的预测值\n",
    "print(np.sqrt(mean_squared_error(y_train,pred_train_rr)))  \n",
    "# mean_squared_error 平方和  np.sqrt() 开根号目的是检测预测值和真实值之间的误差\n",
    "#  (y1-y2) 平方 然后求和 再开根号\n",
    "print(r2_score(y_train, pred_train_rr))"
   ]
  },
  {
   "cell_type": "code",
   "execution_count": 60,
   "metadata": {},
   "outputs": [
    {
     "name": "stdout",
     "output_type": "stream",
     "text": [
      "1020.2791330098893\n",
      "0.8495916214286432\n"
     ]
    }
   ],
   "source": [
    "pred_test_rr= rr.predict(X_test)\n",
    "print(np.sqrt(mean_squared_error(y_test,pred_test_rr)))    #查看上面三种预测方式对应的的公式\n",
    "print(r2_score(y_test, pred_test_rr))"
   ]
  },
  {
   "cell_type": "markdown",
   "metadata": {},
   "source": [
    "#### [LASSO Regression](https://scikit-learn.org/stable/modules/generated/sklearn.linear_model.Lasso.html)"
   ]
  },
  {
   "cell_type": "code",
   "execution_count": 79,
   "metadata": {},
   "outputs": [
    {
     "name": "stderr",
     "output_type": "stream",
     "text": [
      "C:\\Users\\kongg\\Anaconda3\\lib\\site-packages\\sklearn\\linear_model\\coordinate_descent.py:475: ConvergenceWarning: Objective did not converge. You might want to increase the number of iterations. Duality gap: 3754182.337133646, tolerance: 318900.7790582\n",
      "  positive)\n"
     ]
    },
    {
     "data": {
      "text/plain": [
       "Lasso(alpha=0.1, copy_X=True, fit_intercept=True, max_iter=1000,\n",
       "      normalize=False, positive=False, precompute=False, random_state=None,\n",
       "      selection='cyclic', tol=0.0001, warm_start=False)"
      ]
     },
     "execution_count": 79,
     "metadata": {},
     "output_type": "execute_result"
    }
   ],
   "source": [
    "model_lasso = Lasso(alpha=0.1)\n",
    "model_lasso.fit(X_train, y_train)   # 它对应的是这个预测相应的公式，查看上面的公式\n",
    "                                    #步骤已经，第一步也是进行 fit() 操作"
   ]
  },
  {
   "cell_type": "code",
   "execution_count": 80,
   "metadata": {},
   "outputs": [
    {
     "name": "stdout",
     "output_type": "stream",
     "text": [
      "969.7755924031195\n",
      "0.8525458761188562\n"
     ]
    }
   ],
   "source": [
    "pred_train_lasso= model_lasso.predict(X_train)\n",
    "print(np.sqrt(mean_squared_error(y_train,pred_train_lasso)))\n",
    "#mean_squared_error 平方和  np.sqrt() 开根号目的是检测预测值和真实值之间的误差\n",
    "print(r2_score(y_train, pred_train_lasso))"
   ]
  },
  {
   "cell_type": "code",
   "execution_count": 63,
   "metadata": {},
   "outputs": [
    {
     "name": "stdout",
     "output_type": "stream",
     "text": [
      "1020.2756433184367\n",
      "0.8495926503194997\n"
     ]
    }
   ],
   "source": [
    "pred_test_lasso= model_lasso.predict(X_test)\n",
    "print(np.sqrt(mean_squared_error(y_test,pred_test_lasso))) \n",
    "print(r2_score(y_test, pred_test_lasso))"
   ]
  },
  {
   "cell_type": "markdown",
   "metadata": {},
   "source": [
    "#### [ElasticNet Regression](https://scikit-learn.org/stable/modules/generated/sklearn.linear_model.ElasticNet.html)"
   ]
  },
  {
   "cell_type": "code",
   "execution_count": 64,
   "metadata": {},
   "outputs": [
    {
     "name": "stderr",
     "output_type": "stream",
     "text": [
      "C:\\Users\\kongg\\Anaconda3\\lib\\site-packages\\sklearn\\linear_model\\coordinate_descent.py:475: ConvergenceWarning: Objective did not converge. You might want to increase the number of iterations. Duality gap: 8156159.821013927, tolerance: 318900.7790582\n",
      "  positive)\n"
     ]
    },
    {
     "data": {
      "text/plain": [
       "ElasticNet(alpha=0.1, copy_X=True, fit_intercept=True, l1_ratio=0.5,\n",
       "           max_iter=1000, normalize=False, positive=False, precompute=False,\n",
       "           random_state=None, selection='cyclic', tol=0.0001, warm_start=False)"
      ]
     },
     "execution_count": 64,
     "metadata": {},
     "output_type": "execute_result"
    }
   ],
   "source": [
    "model_enet = ElasticNet(alpha = 0.1, l1_ratio=0.5)\n",
    "model_enet.fit(X_train, y_train)"
   ]
  },
  {
   "cell_type": "code",
   "execution_count": 65,
   "metadata": {},
   "outputs": [
    {
     "name": "stdout",
     "output_type": "stream",
     "text": [
      "969.8333672554165\n",
      "0.8525283062932997\n"
     ]
    }
   ],
   "source": [
    "pred_train_enet= model_enet.predict(X_train)\n",
    "print(np.sqrt(mean_squared_error(y_train,pred_train_enet)))\n",
    "print(r2_score(y_train, pred_train_enet))"
   ]
  },
  {
   "cell_type": "code",
   "execution_count": 66,
   "metadata": {},
   "outputs": [
    {
     "name": "stdout",
     "output_type": "stream",
     "text": [
      "1017.6385750781553\n",
      "0.8503691500123907\n"
     ]
    }
   ],
   "source": [
    "pred_test_enet= model_enet.predict(X_test)\n",
    "print(np.sqrt(mean_squared_error(y_test,pred_test_enet)))\n",
    "print(r2_score(y_test, pred_test_enet))"
   ]
  },
  {
   "cell_type": "markdown",
   "metadata": {},
   "source": [
    "## Try Spark"
   ]
  },
  {
   "cell_type": "code",
   "execution_count": 2,
   "metadata": {},
   "outputs": [],
   "source": [
    "#下面 一般都是固定的做法和步骤   思路是一样的，程序编写几乎一样\n",
    "from pyspark.sql import SparkSession  # SparkSession 连接spark"
   ]
  },
  {
   "cell_type": "code",
   "execution_count": 3,
   "metadata": {},
   "outputs": [],
   "source": [
    "spark = SparkSession.builder.appName(\"LinearRegression\").getOrCreate()   # 创建一个 session 然后处理数据"
   ]
  },
  {
   "cell_type": "code",
   "execution_count": 4,
   "metadata": {},
   "outputs": [],
   "source": [
    "# 读入数据   header=True 指的是带第一行列名称  inferSchema=True 让对数据进行猜测，数据的类型属性\n",
    "data = spark.read.csv('./data/unemployment/unemployment_data.csv', header=True, inferSchema=True) "
   ]
  },
  {
   "cell_type": "code",
   "execution_count": 5,
   "metadata": {},
   "outputs": [
    {
     "name": "stdout",
     "output_type": "stream",
     "text": [
      "root\n",
      " |-- PCE: double (nullable = true)\n",
      " |-- POP: double (nullable = true)\n",
      " |-- PSAVERT: double (nullable = true)\n",
      " |-- UEMPMED: double (nullable = true)\n",
      " |-- UNEMPLOY: integer (nullable = true)\n",
      "\n"
     ]
    }
   ],
   "source": [
    "data.printSchema()  # Schema 表示每一列是什么数据类型"
   ]
  },
  {
   "cell_type": "code",
   "execution_count": 6,
   "metadata": {},
   "outputs": [
    {
     "data": {
      "text/plain": [
       "625"
      ]
     },
     "execution_count": 6,
     "metadata": {},
     "output_type": "execute_result"
    }
   ],
   "source": [
    "data.count()  # 查看行数，不算header"
   ]
  },
  {
   "cell_type": "code",
   "execution_count": 7,
   "metadata": {},
   "outputs": [
    {
     "name": "stdout",
     "output_type": "stream",
     "text": [
      "+-----+--------+-------+-------+--------+\n",
      "|  PCE|     POP|PSAVERT|UEMPMED|UNEMPLOY|\n",
      "+-----+--------+-------+-------+--------+\n",
      "|506.7|198712.0|   12.6|    4.5|    2944|\n",
      "|509.8|198911.0|   12.6|    4.7|    2945|\n",
      "|515.6|199113.0|   11.9|    4.6|    2958|\n",
      "|512.2|199311.0|   12.9|    4.9|    3143|\n",
      "|517.4|199498.0|   12.8|    4.7|    3066|\n",
      "|525.1|199657.0|   11.8|    4.8|    3018|\n",
      "|530.9|199808.0|   11.7|    5.1|    2878|\n",
      "|533.6|199920.0|   12.3|    4.5|    3001|\n",
      "|544.3|200056.0|   11.7|    4.1|    2877|\n",
      "|544.0|200208.0|   12.3|    4.6|    2709|\n",
      "|549.8|200361.0|   12.0|    4.4|    2740|\n",
      "|556.3|200536.0|   11.7|    4.4|    2938|\n",
      "|563.2|200706.0|   10.7|    4.5|    2883|\n",
      "|567.0|200898.0|   10.5|    4.2|    2768|\n",
      "|568.2|201095.0|   10.6|    4.6|    2686|\n",
      "|571.6|201290.0|   10.8|    4.8|    2689|\n",
      "|576.7|201466.0|   10.6|    4.4|    2715|\n",
      "|576.5|201621.0|   11.1|    4.4|    2685|\n",
      "|583.5|201760.0|   10.3|    4.4|    2718|\n",
      "|588.7|201881.0|    9.7|    4.9|    2692|\n",
      "+-----+--------+-------+-------+--------+\n",
      "only showing top 20 rows\n",
      "\n"
     ]
    }
   ],
   "source": [
    "data.show() # 默认打印前20行  原来的数据表 打印"
   ]
  },
  {
   "cell_type": "code",
   "execution_count": 8,
   "metadata": {},
   "outputs": [
    {
     "name": "stdout",
     "output_type": "stream",
     "text": [
      "root\n",
      " |-- PCE: double (nullable = true)\n",
      " |-- POP: double (nullable = true)\n",
      " |-- PSAVERT: double (nullable = true)\n",
      " |-- UEMPMED: double (nullable = true)\n",
      " |-- UNEMPLOY: integer (nullable = true)\n",
      "\n"
     ]
    }
   ],
   "source": [
    "data.printSchema()"
   ]
  },
  {
   "cell_type": "code",
   "execution_count": 10,
   "metadata": {},
   "outputs": [
    {
     "data": {
      "text/plain": [
       "['PCE', 'POP', 'PSAVERT', 'UEMPMED']"
      ]
     },
     "execution_count": 10,
     "metadata": {},
     "output_type": "execute_result"
    }
   ],
   "source": [
    "feature_columns = data.columns[:-1] #重新定义一个新的变量，列名，然后存的是  第一行 到 倒数第二行的数据\n",
    "feature_columns"
   ]
  },
  {
   "cell_type": "code",
   "execution_count": 11,
   "metadata": {},
   "outputs": [],
   "source": [
    "from pyspark.ml.feature import VectorAssembler  # 导入VectorAssembler\n",
    "assembler = VectorAssembler(inputCols=feature_columns,outputCol=\"features\")\n",
    "\n",
    "# 创建一个vector ,然后把前面的四个数据放进一个list的里面， 因为这样的话  \n",
    "#数据会放在多个cpu 上进行同时运算，使用多核cpu进行并行计算\n",
    "#因为 计算机支持向量的并行运算，让代码也适应多核并行运算\n",
    "#利用cpu 的多核运算"
   ]
  },
  {
   "cell_type": "code",
   "execution_count": 12,
   "metadata": {},
   "outputs": [],
   "source": [
    "data2 = assembler.transform(data)  # assembler的对象"
   ]
  },
  {
   "cell_type": "code",
   "execution_count": 13,
   "metadata": {},
   "outputs": [
    {
     "name": "stdout",
     "output_type": "stream",
     "text": [
      "+-----+--------+-------+-------+--------+-------------------------+\n",
      "|PCE  |POP     |PSAVERT|UEMPMED|UNEMPLOY|features                 |\n",
      "+-----+--------+-------+-------+--------+-------------------------+\n",
      "|506.7|198712.0|12.6   |4.5    |2944    |[506.7,198712.0,12.6,4.5]|\n",
      "|509.8|198911.0|12.6   |4.7    |2945    |[509.8,198911.0,12.6,4.7]|\n",
      "|515.6|199113.0|11.9   |4.6    |2958    |[515.6,199113.0,11.9,4.6]|\n",
      "|512.2|199311.0|12.9   |4.9    |3143    |[512.2,199311.0,12.9,4.9]|\n",
      "|517.4|199498.0|12.8   |4.7    |3066    |[517.4,199498.0,12.8,4.7]|\n",
      "|525.1|199657.0|11.8   |4.8    |3018    |[525.1,199657.0,11.8,4.8]|\n",
      "|530.9|199808.0|11.7   |5.1    |2878    |[530.9,199808.0,11.7,5.1]|\n",
      "|533.6|199920.0|12.3   |4.5    |3001    |[533.6,199920.0,12.3,4.5]|\n",
      "|544.3|200056.0|11.7   |4.1    |2877    |[544.3,200056.0,11.7,4.1]|\n",
      "|544.0|200208.0|12.3   |4.6    |2709    |[544.0,200208.0,12.3,4.6]|\n",
      "|549.8|200361.0|12.0   |4.4    |2740    |[549.8,200361.0,12.0,4.4]|\n",
      "|556.3|200536.0|11.7   |4.4    |2938    |[556.3,200536.0,11.7,4.4]|\n",
      "|563.2|200706.0|10.7   |4.5    |2883    |[563.2,200706.0,10.7,4.5]|\n",
      "|567.0|200898.0|10.5   |4.2    |2768    |[567.0,200898.0,10.5,4.2]|\n",
      "|568.2|201095.0|10.6   |4.6    |2686    |[568.2,201095.0,10.6,4.6]|\n",
      "|571.6|201290.0|10.8   |4.8    |2689    |[571.6,201290.0,10.8,4.8]|\n",
      "|576.7|201466.0|10.6   |4.4    |2715    |[576.7,201466.0,10.6,4.4]|\n",
      "|576.5|201621.0|11.1   |4.4    |2685    |[576.5,201621.0,11.1,4.4]|\n",
      "|583.5|201760.0|10.3   |4.4    |2718    |[583.5,201760.0,10.3,4.4]|\n",
      "|588.7|201881.0|9.7    |4.9    |2692    |[588.7,201881.0,9.7,4.9] |\n",
      "+-----+--------+-------+-------+--------+-------------------------+\n",
      "only showing top 20 rows\n",
      "\n"
     ]
    }
   ],
   "source": [
    "data2.show(20,False)  # 以为feztures 会显示一定的宽度，False就是让都显示出来"
   ]
  },
  {
   "cell_type": "code",
   "execution_count": 14,
   "metadata": {},
   "outputs": [],
   "source": [
    "train, test = data2.randomSplit([0.8, 0.2])  # 分成训练数据和测试数据"
   ]
  },
  {
   "cell_type": "code",
   "execution_count": 15,
   "metadata": {},
   "outputs": [],
   "source": [
    "from pyspark.ml.regression import LinearRegression\n",
    "lr = LinearRegression(featuresCol=\"features\", labelCol=\"UNEMPLOY\")  \n",
    "# LinearRegression 线性回归，然后直接调用LinearRegression进行线性回归"
   ]
  },
  {
   "cell_type": "code",
   "execution_count": 16,
   "metadata": {},
   "outputs": [],
   "source": [
    "model = lr.fit(train)"
   ]
  },
  {
   "cell_type": "code",
   "execution_count": 17,
   "metadata": {},
   "outputs": [],
   "source": [
    "evaluation_summary = model.evaluate(test)  # 做测试"
   ]
  },
  {
   "cell_type": "code",
   "execution_count": 18,
   "metadata": {},
   "outputs": [
    {
     "data": {
      "text/plain": [
       "1037.2125642682006"
      ]
     },
     "execution_count": 18,
     "metadata": {},
     "output_type": "execute_result"
    }
   ],
   "source": [
    "evaluation_summary.rootMeanSquaredError   # 算偏差"
   ]
  },
  {
   "cell_type": "code",
   "execution_count": 20,
   "metadata": {},
   "outputs": [
    {
     "data": {
      "text/plain": [
       "0.8318001828794315"
      ]
     },
     "execution_count": 20,
     "metadata": {},
     "output_type": "execute_result"
    }
   ],
   "source": [
    "evaluation_summary.r2  #计算r2  查看上面的公式和代码"
   ]
  },
  {
   "cell_type": "code",
   "execution_count": 21,
   "metadata": {},
   "outputs": [],
   "source": [
    "predictions = model.transform(test)  # 添加了新的一列，算出的预测值"
   ]
  },
  {
   "cell_type": "code",
   "execution_count": 30,
   "metadata": {},
   "outputs": [
    {
     "name": "stdout",
     "output_type": "stream",
     "text": [
      "+--------+--------------------------+------------------+\n",
      "|UNEMPLOY|features                  |prediction        |\n",
      "+--------+--------------------------+------------------+\n",
      "|2944    |[506.7,198712.0,12.6,4.5] |3566.9117889345544|\n",
      "|2877    |[544.3,200056.0,11.7,4.1] |3303.111480121701 |\n",
      "|2740    |[549.8,200361.0,12.0,4.4] |3569.058471049717 |\n",
      "|2938    |[556.3,200536.0,11.7,4.4] |3518.2834825794744|\n",
      "|2768    |[567.0,200898.0,10.5,4.2] |3179.0923897884677|\n",
      "|2715    |[576.7,201466.0,10.6,4.4] |3380.8544913926053|\n",
      "|3049    |[618.5,203302.0,11.4,4.5] |3838.6031584679913|\n",
      "|3201    |[628.7,203849.0,11.8,4.6] |4052.102488291388 |\n",
      "|3453    |[634.0,204008.0,11.7,4.5] |3993.3536109220913|\n",
      "|3797    |[636.0,204401.0,13.3,4.1] |4204.391041114632 |\n",
      "|3919    |[642.4,204607.0,12.4,4.7] |4338.606042838899 |\n",
      "|4898    |[656.6,206024.0,13.6,5.6] |5284.706444881169 |\n",
      "|5035    |[698.9,207661.0,13.8,6.2] |5838.673958520518 |\n",
      "|5038    |[749.2,209212.0,11.8,6.6] |5760.562455089708 |\n",
      "|4959    |[752.5,209386.0,11.5,6.7] |5766.9108512617495|\n",
      "|4849    |[781.1,210278.0,12.2,5.6] |5441.899903391572 |\n",
      "|4394    |[832.8,211254.0,12.7,5.5] |5580.552406643608 |\n",
      "|4459    |[835.7,211420.0,13.2,5.0] |5451.765882646334 |\n",
      "|4305    |[854.1,211909.0,13.2,5.2] |5606.606295535352 |\n",
      "|4644    |[884.5,212932.0,14.3,5.0] |5866.023640245276 |\n",
      "|4634    |[901.4,213211.0,13.4,4.8] |5574.067975454793 |\n",
      "|8210    |[995.0,215353.0,14.2,8.7] |8015.00465857529  |\n",
      "|7923    |[1054.8,216393.0,13.0,9.2]|8081.238040389024 |\n",
      "|7326    |[1107.7,217249.0,12.3,8.2]|7450.373793387673 |\n",
      "|7230    |[1114.9,217381.0,12.2,8.7]|7701.958276847687 |\n",
      "|7518    |[1158.0,218233.0,11.7,7.9]|7235.394992833008 |\n",
      "|7059    |[1247.3,219684.0,10.5,7.3]|6742.192421233394 |\n",
      "|6829    |[1280.5,220239.0,10.5,7.1]|6675.231282186858 |\n",
      "|6125    |[1452.9,223053.0,10.6,5.6]|6096.10982405896  |\n",
      "|6077    |[1480.6,223477.0,10.5,5.5]|6046.792932817374 |\n",
      "+--------+--------------------------+------------------+\n",
      "only showing top 30 rows\n",
      "\n"
     ]
    }
   ],
   "source": [
    "predictions.select(predictions.columns[4:]).show(30,False)   \n",
    "# predictions 就是预测的结果  False 的作用就是把省略的地方显示出来"
   ]
  },
  {
   "cell_type": "code",
   "execution_count": 23,
   "metadata": {},
   "outputs": [
    {
     "name": "stdout",
     "output_type": "stream",
     "text": [
      "root\n",
      " |-- PCE: double (nullable = true)\n",
      " |-- POP: double (nullable = true)\n",
      " |-- PSAVERT: double (nullable = true)\n",
      " |-- UEMPMED: double (nullable = true)\n",
      " |-- UNEMPLOY: integer (nullable = true)\n",
      " |-- features: vector (nullable = true)\n",
      " |-- prediction: double (nullable = false)\n",
      "\n"
     ]
    }
   ],
   "source": [
    "predictions.printSchema()"
   ]
  },
  {
   "cell_type": "code",
   "execution_count": 81,
   "metadata": {},
   "outputs": [
    {
     "name": "stdout",
     "output_type": "stream",
     "text": [
      "+------+--------+-------+-------+--------+--------------------------+------------------+\n",
      "|PCE   |POP     |PSAVERT|UEMPMED|UNEMPLOY|features                  |prediction        |\n",
      "+------+--------+-------+-------+--------+--------------------------+------------------+\n",
      "|506.7 |198712.0|12.6   |4.5    |2944    |[506.7,198712.0,12.6,4.5] |3523.3746014710123|\n",
      "|509.8 |198911.0|12.6   |4.7    |2945    |[509.8,198911.0,12.6,4.7] |3657.8784706296283|\n",
      "|576.7 |201466.0|10.6   |4.4    |2715    |[576.7,201466.0,10.6,4.4] |3300.347949729694 |\n",
      "|620.5 |203500.0|11.6   |4.8    |2856    |[620.5,203500.0,11.6,4.8] |4029.535266937208 |\n",
      "|648.5 |205052.0|13.5   |5.1    |4175    |[648.5,205052.0,13.5,5.1] |4879.380627192761 |\n",
      "|652.9 |205295.0|13.4   |5.4    |4256    |[652.9,205295.0,13.4,5.4] |5047.281765598105 |\n",
      "|676.1 |206466.0|13.3   |6.2    |4986    |[676.1,206466.0,13.3,6.2] |5604.113422228074 |\n",
      "|682.0 |206855.0|13.5   |6.4    |4987    |[682.0,206855.0,13.5,6.4] |5815.598725399599 |\n",
      "|688.8 |207065.0|13.2   |6.5    |4959    |[688.8,207065.0,13.2,6.5] |5816.781035041764 |\n",
      "|715.8 |208345.0|13.3   |6.5    |4954    |[715.8,208345.0,13.3,6.5] |6007.213976142615 |\n",
      "|736.2 |209061.0|12.8   |6.6    |4928    |[736.2,209061.0,12.8,6.6] |6018.685787122238 |\n",
      "|758.0 |209545.0|11.7   |6.6    |4922    |[758.0,209545.0,11.7,6.6] |5785.314771051817 |\n",
      "|761.6 |209725.0|11.7   |5.4    |4923    |[761.6,209725.0,11.7,5.4] |5165.280739347036 |\n",
      "|806.1 |210821.0|13.7   |6.1    |4543    |[806.1,210821.0,13.7,6.1] |6158.4566630693225|\n",
      "|816.5 |210985.0|12.4   |5.7    |4326    |[816.5,210985.0,12.4,5.7] |5625.294062567053 |\n",
      "|835.7 |211420.0|13.2   |5.0    |4459    |[835.7,211420.0,13.2,5.0] |5494.449072937772 |\n",
      "|853.3 |212092.0|13.9   |4.9    |4305    |[853.3,212092.0,13.9,4.9] |5700.101434126882 |\n",
      "|869.2 |212289.0|13.1   |5.4    |4350    |[869.2,212289.0,13.1,5.4] |5773.736273133072 |\n",
      "|889.7 |213074.0|14.2   |5.1    |4731    |[889.7,213074.0,14.2,5.1] |5987.427801536309 |\n",
      "|937.9 |213854.0|12.8   |5.7    |5063    |[937.9,213854.0,12.8,5.7] |6008.766308411672 |\n",
      "|959.2 |214451.0|13.4   |5.5    |5523    |[959.2,214451.0,13.4,5.5] |6118.119549104202 |\n",
      "|961.8 |214782.0|14.0   |5.7    |6636    |[961.8,214782.0,14.0,5.7] |6426.594293575101 |\n",
      "|995.0 |215353.0|14.2   |8.7    |8210    |[995.0,215353.0,14.2,8.7] |8129.220501941127 |\n",
      "|1018.9|215523.0|17.3   |9.4    |8433    |[1018.9,215523.0,17.3,9.4]|9283.561563340787 |\n",
      "|1047.0|216195.0|13.0   |9.2    |7928    |[1047.0,216195.0,13.0,9.2]|8152.059708733941 |\n",
      "|1092.1|216931.0|12.0   |9.0    |7744    |[1092.1,216931.0,12.0,9.0]|7843.310188652635 |\n",
      "|1114.9|217381.0|12.2   |8.7    |7230    |[1114.9,217381.0,12.2,8.7]|7771.962537542808 |\n",
      "|1149.6|218035.0|11.7   |7.7    |7490    |[1149.6,218035.0,11.7,7.7]|7162.98204556376  |\n",
      "|1158.0|218233.0|11.7   |7.9    |7518    |[1158.0,218233.0,11.7,7.9]|7289.667872590697 |\n",
      "|1168.8|218440.0|11.4   |7.8    |7380    |[1168.8,218440.0,11.4,7.8]|7177.3366371898155|\n",
      "+------+--------+-------+-------+--------+--------------------------+------------------+\n",
      "only showing top 30 rows\n",
      "\n"
     ]
    }
   ],
   "source": [
    "predictions.show(30,False)"
   ]
  },
  {
   "cell_type": "code",
   "execution_count": 24,
   "metadata": {},
   "outputs": [
    {
     "name": "stdout",
     "output_type": "stream",
     "text": [
      "+-----+--------+-------+-------+--------+--------------------+------------------+----------+\n",
      "|  PCE|     POP|PSAVERT|UEMPMED|UNEMPLOY|            features|        prediction|new_column|\n",
      "+-----+--------+-------+-------+--------+--------------------+------------------+----------+\n",
      "|506.7|198712.0|   12.6|    4.5|    2944|[506.7,198712.0,1...|3566.9117889345544|       abc|\n",
      "|544.3|200056.0|   11.7|    4.1|    2877|[544.3,200056.0,1...| 3303.111480121701|       abc|\n",
      "|549.8|200361.0|   12.0|    4.4|    2740|[549.8,200361.0,1...| 3569.058471049717|       abc|\n",
      "|556.3|200536.0|   11.7|    4.4|    2938|[556.3,200536.0,1...|3518.2834825794744|       abc|\n",
      "|567.0|200898.0|   10.5|    4.2|    2768|[567.0,200898.0,1...|3179.0923897884677|       abc|\n",
      "|576.7|201466.0|   10.6|    4.4|    2715|[576.7,201466.0,1...|3380.8544913926053|       abc|\n",
      "|618.5|203302.0|   11.4|    4.5|    3049|[618.5,203302.0,1...|3838.6031584679913|       abc|\n",
      "|628.7|203849.0|   11.8|    4.6|    3201|[628.7,203849.0,1...| 4052.102488291388|       abc|\n",
      "|634.0|204008.0|   11.7|    4.5|    3453|[634.0,204008.0,1...|3993.3536109220913|       abc|\n",
      "|636.0|204401.0|   13.3|    4.1|    3797|[636.0,204401.0,1...| 4204.391041114632|       abc|\n",
      "|642.4|204607.0|   12.4|    4.7|    3919|[642.4,204607.0,1...| 4338.606042838899|       abc|\n",
      "|656.6|206024.0|   13.6|    5.6|    4898|[656.6,206024.0,1...| 5284.706444881169|       abc|\n",
      "|698.9|207661.0|   13.8|    6.2|    5035|[698.9,207661.0,1...| 5838.673958520518|       abc|\n",
      "|749.2|209212.0|   11.8|    6.6|    5038|[749.2,209212.0,1...| 5760.562455089708|       abc|\n",
      "|752.5|209386.0|   11.5|    6.7|    4959|[752.5,209386.0,1...|5766.9108512617495|       abc|\n",
      "|781.1|210278.0|   12.2|    5.6|    4849|[781.1,210278.0,1...| 5441.899903391572|       abc|\n",
      "|832.8|211254.0|   12.7|    5.5|    4394|[832.8,211254.0,1...| 5580.552406643608|       abc|\n",
      "|835.7|211420.0|   13.2|    5.0|    4459|[835.7,211420.0,1...| 5451.765882646334|       abc|\n",
      "|854.1|211909.0|   13.2|    5.2|    4305|[854.1,211909.0,1...| 5606.606295535352|       abc|\n",
      "|884.5|212932.0|   14.3|    5.0|    4644|[884.5,212932.0,1...| 5866.023640245276|       abc|\n",
      "+-----+--------+-------+-------+--------+--------------------+------------------+----------+\n",
      "only showing top 20 rows\n",
      "\n"
     ]
    }
   ],
   "source": [
    "#如何添加一列\n",
    "from pyspark.sql.functions import *\n",
    "predictions.withColumn('new_column',lit('abc')).show()"
   ]
  },
  {
   "cell_type": "code",
   "execution_count": null,
   "metadata": {},
   "outputs": [],
   "source": []
  }
 ],
 "metadata": {
  "kernelspec": {
   "display_name": "Python 3",
   "language": "python",
   "name": "python3"
  },
  "language_info": {
   "codemirror_mode": {
    "name": "ipython",
    "version": 3
   },
   "file_extension": ".py",
   "mimetype": "text/x-python",
   "name": "python",
   "nbconvert_exporter": "python",
   "pygments_lexer": "ipython3",
   "version": "3.7.3"
  }
 },
 "nbformat": 4,
 "nbformat_minor": 2
}
