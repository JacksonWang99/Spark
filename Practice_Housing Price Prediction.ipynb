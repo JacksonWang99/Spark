{
 "cells": [
  {
   "cell_type": "markdown",
   "metadata": {},
   "source": [
    "# <center>Housing Price Prediction</center> "
   ]
  },
  {
   "cell_type": "code",
   "execution_count": 1,
   "metadata": {},
   "outputs": [],
   "source": [
    "from pyspark.sql import SparkSession  # 建立spark 之间的连接"
   ]
  },
  {
   "cell_type": "code",
   "execution_count": 2,
   "metadata": {},
   "outputs": [],
   "source": [
    "spark = SparkSession.builder.appName(\"LinearRegressionQuiz\").getOrCreate()"
   ]
  },
  {
   "cell_type": "code",
   "execution_count": 3,
   "metadata": {},
   "outputs": [],
   "source": [
    "#读入数据\n",
    "data = spark.read.csv('./data/boston_housing.csv', header=True, inferSchema=True)"
   ]
  },
  {
   "cell_type": "code",
   "execution_count": 4,
   "metadata": {},
   "outputs": [
    {
     "data": {
      "text/plain": [
       "506"
      ]
     },
     "execution_count": 4,
     "metadata": {},
     "output_type": "execute_result"
    }
   ],
   "source": [
    "data.count()"
   ]
  },
  {
   "cell_type": "code",
   "execution_count": 5,
   "metadata": {},
   "outputs": [
    {
     "data": {
      "text/plain": [
       "['crim',\n",
       " 'zn',\n",
       " 'indus',\n",
       " 'chas',\n",
       " 'nox',\n",
       " 'rm',\n",
       " 'age',\n",
       " 'dis',\n",
       " 'rad',\n",
       " 'tax',\n",
       " 'ptratio',\n",
       " 'b',\n",
       " 'lstat',\n",
       " 'medv']"
      ]
     },
     "execution_count": 5,
     "metadata": {},
     "output_type": "execute_result"
    }
   ],
   "source": [
    "#返回的是一个列， 都有是么样的列\n",
    "data.columns"
   ]
  },
  {
   "cell_type": "code",
   "execution_count": 6,
   "metadata": {},
   "outputs": [
    {
     "data": {
      "text/plain": [
       "14"
      ]
     },
     "execution_count": 6,
     "metadata": {},
     "output_type": "execute_result"
    }
   ],
   "source": [
    "len(data.columns)  # 求有多少列，列表的长度"
   ]
  },
  {
   "cell_type": "code",
   "execution_count": 7,
   "metadata": {},
   "outputs": [
    {
     "name": "stdout",
     "output_type": "stream",
     "text": [
      "+-------+----+-----+----+-----+-----+-----+------+---+---+-------+------+-----+----+\n",
      "|   crim|  zn|indus|chas|  nox|   rm|  age|   dis|rad|tax|ptratio|     b|lstat|medv|\n",
      "+-------+----+-----+----+-----+-----+-----+------+---+---+-------+------+-----+----+\n",
      "|0.00632|18.0| 2.31|   0|0.538|6.575| 65.2|  4.09|  1|296|   15.3| 396.9| 4.98|24.0|\n",
      "|0.02731| 0.0| 7.07|   0|0.469|6.421| 78.9|4.9671|  2|242|   17.8| 396.9| 9.14|21.6|\n",
      "|0.02729| 0.0| 7.07|   0|0.469|7.185| 61.1|4.9671|  2|242|   17.8|392.83| 4.03|34.7|\n",
      "|0.03237| 0.0| 2.18|   0|0.458|6.998| 45.8|6.0622|  3|222|   18.7|394.63| 2.94|33.4|\n",
      "|0.06905| 0.0| 2.18|   0|0.458|7.147| 54.2|6.0622|  3|222|   18.7| 396.9| 5.33|36.2|\n",
      "|0.02985| 0.0| 2.18|   0|0.458| 6.43| 58.7|6.0622|  3|222|   18.7|394.12| 5.21|28.7|\n",
      "|0.08829|12.5| 7.87|   0|0.524|6.012| 66.6|5.5605|  5|311|   15.2| 395.6|12.43|22.9|\n",
      "|0.14455|12.5| 7.87|   0|0.524|6.172| 96.1|5.9505|  5|311|   15.2| 396.9|19.15|27.1|\n",
      "|0.21124|12.5| 7.87|   0|0.524|5.631|100.0|6.0821|  5|311|   15.2|386.63|29.93|16.5|\n",
      "|0.17004|12.5| 7.87|   0|0.524|6.004| 85.9|6.5921|  5|311|   15.2|386.71| 17.1|18.9|\n",
      "|0.22489|12.5| 7.87|   0|0.524|6.377| 94.3|6.3467|  5|311|   15.2|392.52|20.45|15.0|\n",
      "|0.11747|12.5| 7.87|   0|0.524|6.009| 82.9|6.2267|  5|311|   15.2| 396.9|13.27|18.9|\n",
      "|0.09378|12.5| 7.87|   0|0.524|5.889| 39.0|5.4509|  5|311|   15.2| 390.5|15.71|21.7|\n",
      "|0.62976| 0.0| 8.14|   0|0.538|5.949| 61.8|4.7075|  4|307|   21.0| 396.9| 8.26|20.4|\n",
      "|0.63796| 0.0| 8.14|   0|0.538|6.096| 84.5|4.4619|  4|307|   21.0|380.02|10.26|18.2|\n",
      "|0.62739| 0.0| 8.14|   0|0.538|5.834| 56.5|4.4986|  4|307|   21.0|395.62| 8.47|19.9|\n",
      "|1.05393| 0.0| 8.14|   0|0.538|5.935| 29.3|4.4986|  4|307|   21.0|386.85| 6.58|23.1|\n",
      "| 0.7842| 0.0| 8.14|   0|0.538| 5.99| 81.7|4.2579|  4|307|   21.0|386.75|14.67|17.5|\n",
      "|0.80271| 0.0| 8.14|   0|0.538|5.456| 36.6|3.7965|  4|307|   21.0|288.99|11.69|20.2|\n",
      "| 0.7258| 0.0| 8.14|   0|0.538|5.727| 69.5|3.7965|  4|307|   21.0|390.95|11.28|18.2|\n",
      "+-------+----+-----+----+-----+-----+-----+------+---+---+-------+------+-----+----+\n",
      "only showing top 20 rows\n",
      "\n"
     ]
    }
   ],
   "source": [
    "data.show()"
   ]
  },
  {
   "cell_type": "markdown",
   "metadata": {},
   "source": [
    "* CRIM: per capita crime rate by town\n",
    "* ZN: proportion of residential land zoned for lots over 25,000 sq.ft.\n",
    "* INDUS: proportion of non-retail business acres per town.\n",
    "* CHAS: Charles River dummy variable (1 if tract bounds river; 0 otherwise)\n",
    "* NOX: nitric oxides concentration (parts per 10 million)\n",
    "* RM: average number of rooms per dwelling\n",
    "* AGE: proportion of owner-occupied units built prior to 1940\n",
    "* DIS: weighted distances to five Boston employment centres\n",
    "* RAD: index of accessibility to radial highways\n",
    "* TAX: full-value property-tax rate per $10,000\n",
    "* PTRATIO: pupil-teacher ratio by town\n",
    "* B: 1000(Bk — 0.63)² where Bk is the proportion of blacks by town\n",
    "* LSTAT: lower status of the population\n",
    "* MEDV: Median value of owner-occupied homes in thousand dollers"
   ]
  },
  {
   "cell_type": "code",
   "execution_count": 43,
   "metadata": {},
   "outputs": [
    {
     "name": "stdout",
     "output_type": "stream",
     "text": [
      "root\n",
      " |-- crim: double (nullable = true)\n",
      " |-- zn: double (nullable = true)\n",
      " |-- indus: double (nullable = true)\n",
      " |-- chas: integer (nullable = true)\n",
      " |-- nox: double (nullable = true)\n",
      " |-- rm: double (nullable = true)\n",
      " |-- age: double (nullable = true)\n",
      " |-- dis: double (nullable = true)\n",
      " |-- rad: integer (nullable = true)\n",
      " |-- tax: integer (nullable = true)\n",
      " |-- ptratio: double (nullable = true)\n",
      " |-- b: double (nullable = true)\n",
      " |-- lstat: double (nullable = true)\n",
      " |-- medv: double (nullable = true)\n",
      "\n"
     ]
    }
   ],
   "source": [
    "data.printSchema()  # 查看每一列数据的  格式"
   ]
  },
  {
   "cell_type": "code",
   "execution_count": 9,
   "metadata": {},
   "outputs": [
    {
     "data": {
      "text/plain": [
       "['crim',\n",
       " 'zn',\n",
       " 'indus',\n",
       " 'chas',\n",
       " 'nox',\n",
       " 'rm',\n",
       " 'age',\n",
       " 'dis',\n",
       " 'rad',\n",
       " 'tax',\n",
       " 'ptratio',\n",
       " 'b',\n",
       " 'lstat']"
      ]
     },
     "execution_count": 9,
     "metadata": {},
     "output_type": "execute_result"
    }
   ],
   "source": [
    "#feature data\n",
    "feature_columns = data.columns[:-1]  #  feature 包含的数据  把第0列到第13列全部拿出来给 feature\n",
    "feature_columns"
   ]
  },
  {
   "cell_type": "code",
   "execution_count": 10,
   "metadata": {},
   "outputs": [],
   "source": [
    "# 把这些东西全部放到一个向量里面，做vector的计算，\n",
    "from pyspark.ml.feature import VectorAssembler\n",
    "            #这个向量数据输入inputCols=feature_columns  数据输出为 outputCol=\"features\" 生成的新的column 叫做feature.\n",
    "assembler = VectorAssembler(inputCols=feature_columns, outputCol=\"features\")  # 生成的 outputCol"
   ]
  },
  {
   "cell_type": "code",
   "execution_count": 11,
   "metadata": {},
   "outputs": [],
   "source": [
    "data2 = assembler.transform(data)   # assembler做在data 2 里面做transform,产生的新的数据放进data2,\n",
    "                                    # 也就比原来多了feature 一列，计算机开始计算时就只看 feature 这一列"
   ]
  },
  {
   "cell_type": "code",
   "execution_count": 14,
   "metadata": {},
   "outputs": [
    {
     "name": "stdout",
     "output_type": "stream",
     "text": [
      "+-------+----+-----+----+-----+-----+-----+------+---+---+-------+------+-----+----+----------------------------------------------------------------------------+\n",
      "|crim   |zn  |indus|chas|nox  |rm   |age  |dis   |rad|tax|ptratio|b     |lstat|medv|features                                                                    |\n",
      "+-------+----+-----+----+-----+-----+-----+------+---+---+-------+------+-----+----+----------------------------------------------------------------------------+\n",
      "|0.00632|18.0|2.31 |0   |0.538|6.575|65.2 |4.09  |1  |296|15.3   |396.9 |4.98 |24.0|[0.00632,18.0,2.31,0.0,0.538,6.575,65.2,4.09,1.0,296.0,15.3,396.9,4.98]     |\n",
      "|0.02731|0.0 |7.07 |0   |0.469|6.421|78.9 |4.9671|2  |242|17.8   |396.9 |9.14 |21.6|[0.02731,0.0,7.07,0.0,0.469,6.421,78.9,4.9671,2.0,242.0,17.8,396.9,9.14]    |\n",
      "|0.02729|0.0 |7.07 |0   |0.469|7.185|61.1 |4.9671|2  |242|17.8   |392.83|4.03 |34.7|[0.02729,0.0,7.07,0.0,0.469,7.185,61.1,4.9671,2.0,242.0,17.8,392.83,4.03]   |\n",
      "|0.03237|0.0 |2.18 |0   |0.458|6.998|45.8 |6.0622|3  |222|18.7   |394.63|2.94 |33.4|[0.03237,0.0,2.18,0.0,0.458,6.998,45.8,6.0622,3.0,222.0,18.7,394.63,2.94]   |\n",
      "|0.06905|0.0 |2.18 |0   |0.458|7.147|54.2 |6.0622|3  |222|18.7   |396.9 |5.33 |36.2|[0.06905,0.0,2.18,0.0,0.458,7.147,54.2,6.0622,3.0,222.0,18.7,396.9,5.33]    |\n",
      "|0.02985|0.0 |2.18 |0   |0.458|6.43 |58.7 |6.0622|3  |222|18.7   |394.12|5.21 |28.7|[0.02985,0.0,2.18,0.0,0.458,6.43,58.7,6.0622,3.0,222.0,18.7,394.12,5.21]    |\n",
      "|0.08829|12.5|7.87 |0   |0.524|6.012|66.6 |5.5605|5  |311|15.2   |395.6 |12.43|22.9|[0.08829,12.5,7.87,0.0,0.524,6.012,66.6,5.5605,5.0,311.0,15.2,395.6,12.43]  |\n",
      "|0.14455|12.5|7.87 |0   |0.524|6.172|96.1 |5.9505|5  |311|15.2   |396.9 |19.15|27.1|[0.14455,12.5,7.87,0.0,0.524,6.172,96.1,5.9505,5.0,311.0,15.2,396.9,19.15]  |\n",
      "|0.21124|12.5|7.87 |0   |0.524|5.631|100.0|6.0821|5  |311|15.2   |386.63|29.93|16.5|[0.21124,12.5,7.87,0.0,0.524,5.631,100.0,6.0821,5.0,311.0,15.2,386.63,29.93]|\n",
      "|0.17004|12.5|7.87 |0   |0.524|6.004|85.9 |6.5921|5  |311|15.2   |386.71|17.1 |18.9|[0.17004,12.5,7.87,0.0,0.524,6.004,85.9,6.5921,5.0,311.0,15.2,386.71,17.1]  |\n",
      "|0.22489|12.5|7.87 |0   |0.524|6.377|94.3 |6.3467|5  |311|15.2   |392.52|20.45|15.0|[0.22489,12.5,7.87,0.0,0.524,6.377,94.3,6.3467,5.0,311.0,15.2,392.52,20.45] |\n",
      "|0.11747|12.5|7.87 |0   |0.524|6.009|82.9 |6.2267|5  |311|15.2   |396.9 |13.27|18.9|[0.11747,12.5,7.87,0.0,0.524,6.009,82.9,6.2267,5.0,311.0,15.2,396.9,13.27]  |\n",
      "|0.09378|12.5|7.87 |0   |0.524|5.889|39.0 |5.4509|5  |311|15.2   |390.5 |15.71|21.7|[0.09378,12.5,7.87,0.0,0.524,5.889,39.0,5.4509,5.0,311.0,15.2,390.5,15.71]  |\n",
      "|0.62976|0.0 |8.14 |0   |0.538|5.949|61.8 |4.7075|4  |307|21.0   |396.9 |8.26 |20.4|[0.62976,0.0,8.14,0.0,0.538,5.949,61.8,4.7075,4.0,307.0,21.0,396.9,8.26]    |\n",
      "|0.63796|0.0 |8.14 |0   |0.538|6.096|84.5 |4.4619|4  |307|21.0   |380.02|10.26|18.2|[0.63796,0.0,8.14,0.0,0.538,6.096,84.5,4.4619,4.0,307.0,21.0,380.02,10.26]  |\n",
      "|0.62739|0.0 |8.14 |0   |0.538|5.834|56.5 |4.4986|4  |307|21.0   |395.62|8.47 |19.9|[0.62739,0.0,8.14,0.0,0.538,5.834,56.5,4.4986,4.0,307.0,21.0,395.62,8.47]   |\n",
      "|1.05393|0.0 |8.14 |0   |0.538|5.935|29.3 |4.4986|4  |307|21.0   |386.85|6.58 |23.1|[1.05393,0.0,8.14,0.0,0.538,5.935,29.3,4.4986,4.0,307.0,21.0,386.85,6.58]   |\n",
      "|0.7842 |0.0 |8.14 |0   |0.538|5.99 |81.7 |4.2579|4  |307|21.0   |386.75|14.67|17.5|[0.7842,0.0,8.14,0.0,0.538,5.99,81.7,4.2579,4.0,307.0,21.0,386.75,14.67]    |\n",
      "|0.80271|0.0 |8.14 |0   |0.538|5.456|36.6 |3.7965|4  |307|21.0   |288.99|11.69|20.2|[0.80271,0.0,8.14,0.0,0.538,5.456,36.6,3.7965,4.0,307.0,21.0,288.99,11.69]  |\n",
      "|0.7258 |0.0 |8.14 |0   |0.538|5.727|69.5 |3.7965|4  |307|21.0   |390.95|11.28|18.2|[0.7258,0.0,8.14,0.0,0.538,5.727,69.5,3.7965,4.0,307.0,21.0,390.95,11.28]   |\n",
      "+-------+----+-----+----+-----+-----+-----+------+---+---+-------+------+-----+----+----------------------------------------------------------------------------+\n",
      "only showing top 20 rows\n",
      "\n"
     ]
    }
   ],
   "source": [
    "data2.show(20,False)"
   ]
  },
  {
   "cell_type": "code",
   "execution_count": 12,
   "metadata": {},
   "outputs": [
    {
     "name": "stdout",
     "output_type": "stream",
     "text": [
      "+-------+----+-----+----+-----+-----+-----+------+---+---+-------+------+-----+----+--------------------+\n",
      "|   crim|  zn|indus|chas|  nox|   rm|  age|   dis|rad|tax|ptratio|     b|lstat|medv|            features|\n",
      "+-------+----+-----+----+-----+-----+-----+------+---+---+-------+------+-----+----+--------------------+\n",
      "|0.00632|18.0| 2.31|   0|0.538|6.575| 65.2|  4.09|  1|296|   15.3| 396.9| 4.98|24.0|[0.00632,18.0,2.3...|\n",
      "|0.02731| 0.0| 7.07|   0|0.469|6.421| 78.9|4.9671|  2|242|   17.8| 396.9| 9.14|21.6|[0.02731,0.0,7.07...|\n",
      "|0.02729| 0.0| 7.07|   0|0.469|7.185| 61.1|4.9671|  2|242|   17.8|392.83| 4.03|34.7|[0.02729,0.0,7.07...|\n",
      "|0.03237| 0.0| 2.18|   0|0.458|6.998| 45.8|6.0622|  3|222|   18.7|394.63| 2.94|33.4|[0.03237,0.0,2.18...|\n",
      "|0.06905| 0.0| 2.18|   0|0.458|7.147| 54.2|6.0622|  3|222|   18.7| 396.9| 5.33|36.2|[0.06905,0.0,2.18...|\n",
      "|0.02985| 0.0| 2.18|   0|0.458| 6.43| 58.7|6.0622|  3|222|   18.7|394.12| 5.21|28.7|[0.02985,0.0,2.18...|\n",
      "|0.08829|12.5| 7.87|   0|0.524|6.012| 66.6|5.5605|  5|311|   15.2| 395.6|12.43|22.9|[0.08829,12.5,7.8...|\n",
      "|0.14455|12.5| 7.87|   0|0.524|6.172| 96.1|5.9505|  5|311|   15.2| 396.9|19.15|27.1|[0.14455,12.5,7.8...|\n",
      "|0.21124|12.5| 7.87|   0|0.524|5.631|100.0|6.0821|  5|311|   15.2|386.63|29.93|16.5|[0.21124,12.5,7.8...|\n",
      "|0.17004|12.5| 7.87|   0|0.524|6.004| 85.9|6.5921|  5|311|   15.2|386.71| 17.1|18.9|[0.17004,12.5,7.8...|\n",
      "|0.22489|12.5| 7.87|   0|0.524|6.377| 94.3|6.3467|  5|311|   15.2|392.52|20.45|15.0|[0.22489,12.5,7.8...|\n",
      "|0.11747|12.5| 7.87|   0|0.524|6.009| 82.9|6.2267|  5|311|   15.2| 396.9|13.27|18.9|[0.11747,12.5,7.8...|\n",
      "|0.09378|12.5| 7.87|   0|0.524|5.889| 39.0|5.4509|  5|311|   15.2| 390.5|15.71|21.7|[0.09378,12.5,7.8...|\n",
      "|0.62976| 0.0| 8.14|   0|0.538|5.949| 61.8|4.7075|  4|307|   21.0| 396.9| 8.26|20.4|[0.62976,0.0,8.14...|\n",
      "|0.63796| 0.0| 8.14|   0|0.538|6.096| 84.5|4.4619|  4|307|   21.0|380.02|10.26|18.2|[0.63796,0.0,8.14...|\n",
      "|0.62739| 0.0| 8.14|   0|0.538|5.834| 56.5|4.4986|  4|307|   21.0|395.62| 8.47|19.9|[0.62739,0.0,8.14...|\n",
      "|1.05393| 0.0| 8.14|   0|0.538|5.935| 29.3|4.4986|  4|307|   21.0|386.85| 6.58|23.1|[1.05393,0.0,8.14...|\n",
      "| 0.7842| 0.0| 8.14|   0|0.538| 5.99| 81.7|4.2579|  4|307|   21.0|386.75|14.67|17.5|[0.7842,0.0,8.14,...|\n",
      "|0.80271| 0.0| 8.14|   0|0.538|5.456| 36.6|3.7965|  4|307|   21.0|288.99|11.69|20.2|[0.80271,0.0,8.14...|\n",
      "| 0.7258| 0.0| 8.14|   0|0.538|5.727| 69.5|3.7965|  4|307|   21.0|390.95|11.28|18.2|[0.7258,0.0,8.14,...|\n",
      "+-------+----+-----+----+-----+-----+-----+------+---+---+-------+------+-----+----+--------------------+\n",
      "only showing top 20 rows\n",
      "\n"
     ]
    }
   ],
   "source": [
    "data2.show()"
   ]
  },
  {
   "cell_type": "code",
   "execution_count": 15,
   "metadata": {},
   "outputs": [],
   "source": [
    "#套路，把数据分成 训练数据和测试数据  固定写法\n",
    "\n",
    "train, test = data2.randomSplit([0.8, 0.2])"
   ]
  },
  {
   "cell_type": "code",
   "execution_count": 16,
   "metadata": {},
   "outputs": [],
   "source": [
    "#把LinearRegression这个包调入，有了这个包就可以做\n",
    "from pyspark.ml.regression import LinearRegression"
   ]
  },
  {
   "cell_type": "code",
   "execution_count": 17,
   "metadata": {},
   "outputs": [
    {
     "data": {
      "text/plain": [
       "DenseVector([-0.1158, 0.0515, 0.0217, 2.1177, -18.2743, 3.3538, 0.0111, -1.4584, 0.3654, -0.0156, -0.9725, 0.0085, -0.5612])"
      ]
     },
     "execution_count": 17,
     "metadata": {},
     "output_type": "execute_result"
    }
   ],
   "source": [
    "# train the 1st model, regular linear regression\n",
    "# 线性回归   LinearRegression是一个类，然后会实例化，变成一个对象lr\n",
    "lr = LinearRegression(featuresCol=\"features\", labelCol=\"medv\", standardization=False)  # featuresCol=\"features\", labelCol=\"medv\"直接进行赋值\n",
    "\n",
    "#standardization=False  false 是不做标准化，标准化 (x - min) / max - min\n",
    "\n",
    "model = lr.fit(train)\n",
    "model.coefficients  #  coefficients 回归系数  对应的是 beta1..... beta 13"
   ]
  },
  {
   "cell_type": "code",
   "execution_count": 18,
   "metadata": {},
   "outputs": [
    {
     "data": {
      "text/plain": [
       "DenseVector([-0.0244, 0.0, 0.0, 1.0154, 0.0, 3.8834, 0.0, -0.1025, 0.0, 0.0, -0.7267, 0.0055, -0.5385])"
      ]
     },
     "execution_count": 18,
     "metadata": {},
     "output_type": "execute_result"
    }
   ],
   "source": [
    "# train the 2nd model, lasso regression, add L1 regularization \n",
    "# 做拉锁回归  regParam=0.5 = lambder   elasticNetParam = 1.0 会让不重要的项的系数变成0  \n",
    "#regParam=0.5 这个系数越大会减少更多的系数，系数变成0的项也越多\n",
    "#当 elasticNetParam越大的时候会选择出更加重要的项\n",
    "\n",
    "lr_lasso = LinearRegression(featuresCol=\"features\", labelCol=\"medv\", regParam=0.5, elasticNetParam = 1.0, standardization = True)\n",
    "\n",
    "model_lasso = lr_lasso.fit(train)\n",
    "model_lasso.coefficients"
   ]
  },
  {
   "cell_type": "code",
   "execution_count": 19,
   "metadata": {},
   "outputs": [
    {
     "data": {
      "text/plain": [
       "DenseVector([-0.1063, 0.0449, -0.0111, 2.2711, -15.8437, 3.4972, 0.0076, -1.3327, 0.2741, -0.0112, -0.9263, 0.0085, -0.5387])"
      ]
     },
     "execution_count": 19,
     "metadata": {},
     "output_type": "execute_result"
    }
   ],
   "source": [
    "# train the 3rd model, ridge regression, add L2 regularization\n",
    "# 做 岭回归     系数会变小\n",
    "lr_ridge = LinearRegression(featuresCol=\"features\", labelCol=\"medv\", regParam=0.2, elasticNetParam = 0.0)\n",
    "model_ridge = lr_ridge.fit(train)\n",
    "model_ridge.coefficients"
   ]
  },
  {
   "cell_type": "code",
   "execution_count": 20,
   "metadata": {},
   "outputs": [
    {
     "data": {
      "text/plain": [
       "DenseVector([-0.0477, 0.0158, -0.0058, 1.8136, -7.5511, 3.8744, 0.0, -0.7248, 0.0, 0.0, -0.7941, 0.0067, -0.5389])"
      ]
     },
     "execution_count": 20,
     "metadata": {},
     "output_type": "execute_result"
    }
   ],
   "source": [
    "# train the 4th model, ridge regression, add L2 regularization \n",
    "# 弹性网络回归  上面两种回归的结合  另外一个 惩罚项是   1- 0.8  百分之80来自拉锁回归 百分之二十来自岭回归\n",
    "\n",
    "lr_en = LinearRegression(featuresCol=\"features\", labelCol=\"medv\", regParam=0.3, elasticNetParam = 0.8)\n",
    "\n",
    "model_en = lr_en.fit(train)\n",
    "model_en.coefficients  # 回归系数"
   ]
  },
  {
   "cell_type": "code",
   "execution_count": 21,
   "metadata": {},
   "outputs": [
    {
     "name": "stdout",
     "output_type": "stream",
     "text": [
      "+----+--------------------+------------------+\n",
      "|medv|            features|        prediction|\n",
      "+----+--------------------+------------------+\n",
      "|22.0|[0.01096,55.0,2.2...| 27.35239904506532|\n",
      "|31.6|[0.01432,100.0,1....| 33.80514327629332|\n",
      "|29.1|[0.01439,60.0,2.9...|31.615690041667715|\n",
      "|23.1|[0.0187,85.0,4.15...| 25.37913735427707|\n",
      "|26.6|[0.02899,40.0,1.2...| 21.76488086848516|\n",
      "|34.9|[0.03359,75.0,2.9...|34.276592235090874|\n",
      "|48.5|[0.0351,95.0,2.68...| 42.15704698457762|\n",
      "|20.9|[0.03548,80.0,3.6...|21.871042589963647|\n",
      "|45.4|[0.03578,20.0,3.3...|38.954496051877314|\n",
      "|35.4|[0.03705,20.0,3.3...| 34.56717147035438|\n",
      "|34.6|[0.03768,80.0,1.5...| 34.58751233899849|\n",
      "|22.0|[0.03932,0.0,3.41...| 27.58054795279234|\n",
      "|22.9|[0.04203,28.0,15....|29.168051832382652|\n",
      "|20.6|[0.04294,28.0,15....|27.510669453486322|\n",
      "|24.8|[0.04297,52.5,5.3...| 27.01490743756918|\n",
      "|20.6|[0.04527,0.0,11.9...| 22.48842682268969|\n",
      "|23.3|[0.0456,0.0,13.89...|26.225478784411095|\n",
      "|30.3|[0.04666,80.0,1.5...| 32.57041466397976|\n",
      "|24.6|[0.05425,0.0,4.05...| 29.51841310887211|\n",
      "|32.4|[0.05644,40.0,6.4...|35.702430342797285|\n",
      "+----+--------------------+------------------+\n",
      "only showing top 20 rows\n",
      "\n"
     ]
    }
   ],
   "source": [
    "#经过上面的步骤，我们产生了4个model  线性回归  拉锁回归  岭回归  弹性网络，然后接下来就是做预测\n",
    "#用第一个线性回归做的 预测\n",
    "predictions = model.transform(test)\n",
    "predictions.select(predictions.columns[13:]).show()"
   ]
  },
  {
   "cell_type": "code",
   "execution_count": 22,
   "metadata": {
    "scrolled": true
   },
   "outputs": [
    {
     "name": "stdout",
     "output_type": "stream",
     "text": [
      "+----+--------------------+------------------+\n",
      "|medv|            features|        prediction|\n",
      "+----+--------------------+------------------+\n",
      "|22.0|[0.01096,55.0,2.2...| 27.63692099792868|\n",
      "|31.6|[0.01432,100.0,1....|31.382164376805488|\n",
      "|29.1|[0.01439,60.0,2.9...|30.090394399013505|\n",
      "|23.1|[0.0187,85.0,4.15...| 26.86032583011624|\n",
      "|26.6|[0.02899,40.0,1.2...| 27.40715500735677|\n",
      "|34.9|[0.03359,75.0,2.9...|31.239480230359938|\n",
      "|48.5|[0.0351,95.0,2.68...| 36.10288003901449|\n",
      "|20.9|[0.03548,80.0,3.6...|23.853399689344744|\n",
      "|45.4|[0.03578,20.0,3.3...| 35.86949717123409|\n",
      "|35.4|[0.03705,20.0,3.3...|32.084676349001995|\n",
      "|34.6|[0.03768,80.0,1.5...|33.639519246069604|\n",
      "|22.0|[0.03932,0.0,3.41...| 26.07486835661335|\n",
      "|22.9|[0.04203,28.0,15....| 25.89856930129013|\n",
      "|20.6|[0.04294,28.0,15....|23.856209406287366|\n",
      "|24.8|[0.04297,52.5,5.3...|26.309122555912595|\n",
      "|20.6|[0.04527,0.0,11.9...|22.269577501895647|\n",
      "|23.3|[0.0456,0.0,13.89...| 23.23435077536154|\n",
      "|30.3|[0.04666,80.0,1.5...| 31.71007180354019|\n",
      "|24.6|[0.05425,0.0,4.05...|27.613764744282218|\n",
      "|32.4|[0.05644,40.0,6.4...|31.038192936389088|\n",
      "+----+--------------------+------------------+\n",
      "only showing top 20 rows\n",
      "\n"
     ]
    }
   ],
   "source": [
    "#拉锁回归做预测\n",
    "predictions = model_lasso.transform(test)\n",
    "predictions.select(predictions.columns[13:]).show()"
   ]
  },
  {
   "cell_type": "code",
   "execution_count": 23,
   "metadata": {
    "scrolled": true
   },
   "outputs": [
    {
     "name": "stdout",
     "output_type": "stream",
     "text": [
      "+----+--------------------+------------------+\n",
      "|medv|            features|        prediction|\n",
      "+----+--------------------+------------------+\n",
      "|22.0|[0.01096,55.0,2.2...| 27.55344727766984|\n",
      "|31.6|[0.01432,100.0,1....| 33.27969685565337|\n",
      "|29.1|[0.01439,60.0,2.9...|31.493072926895014|\n",
      "|23.1|[0.0187,85.0,4.15...|25.627780904715117|\n",
      "|26.6|[0.02899,40.0,1.2...|22.747169398142596|\n",
      "|34.9|[0.03359,75.0,2.9...|33.919672335310636|\n",
      "|48.5|[0.0351,95.0,2.68...|41.331025713102676|\n",
      "|20.9|[0.03548,80.0,3.6...| 22.21347247936422|\n",
      "|45.4|[0.03578,20.0,3.3...| 38.37637779675731|\n",
      "|35.4|[0.03705,20.0,3.3...|34.050273952782184|\n",
      "|34.6|[0.03768,80.0,1.5...|  34.6579302328578|\n",
      "|22.0|[0.03932,0.0,3.41...|27.553115572550904|\n",
      "|22.9|[0.04203,28.0,15....| 28.49924634298668|\n",
      "|20.6|[0.04294,28.0,15....|26.779653270011156|\n",
      "|24.8|[0.04297,52.5,5.3...|26.820482097953583|\n",
      "|20.6|[0.04527,0.0,11.9...|  22.5065079234501|\n",
      "|23.3|[0.0456,0.0,13.89...|25.955084252293574|\n",
      "|30.3|[0.04666,80.0,1.5...| 32.66684913351512|\n",
      "|24.6|[0.05425,0.0,4.05...| 29.28169114655356|\n",
      "|32.4|[0.05644,40.0,6.4...| 35.31672132912615|\n",
      "+----+--------------------+------------------+\n",
      "only showing top 20 rows\n",
      "\n"
     ]
    }
   ],
   "source": [
    "#岭回归做预测\n",
    "predictions = model_ridge.transform(test)\n",
    "predictions.select(predictions.columns[13:]).show()"
   ]
  },
  {
   "cell_type": "code",
   "execution_count": 24,
   "metadata": {},
   "outputs": [
    {
     "name": "stdout",
     "output_type": "stream",
     "text": [
      "+----+--------------------+------------------+\n",
      "|medv|            features|        prediction|\n",
      "+----+--------------------+------------------+\n",
      "|22.0|[0.01096,55.0,2.2...| 27.77766203024618|\n",
      "|31.6|[0.01432,100.0,1....|31.450831111168068|\n",
      "|29.1|[0.01439,60.0,2.9...|30.850682500325465|\n",
      "|23.1|[0.0187,85.0,4.15...|26.220701485929634|\n",
      "|26.6|[0.02899,40.0,1.2...|25.784445776174042|\n",
      "|34.9|[0.03359,75.0,2.9...| 32.38043124145209|\n",
      "|48.5|[0.0351,95.0,2.68...|38.058604174907934|\n",
      "|20.9|[0.03548,80.0,3.6...| 23.09917595715976|\n",
      "|45.4|[0.03578,20.0,3.3...| 36.67607011421642|\n",
      "|35.4|[0.03705,20.0,3.3...| 32.56219045765232|\n",
      "|34.6|[0.03768,80.0,1.5...| 34.23725204902557|\n",
      "|22.0|[0.03932,0.0,3.41...|27.036515999790474|\n",
      "|22.9|[0.04203,28.0,15....| 27.04189133537175|\n",
      "|20.6|[0.04294,28.0,15....|25.034124303507504|\n",
      "|24.8|[0.04297,52.5,5.3...|26.147694804771074|\n",
      "|20.6|[0.04527,0.0,11.9...|22.838716246799535|\n",
      "|23.3|[0.0456,0.0,13.89...| 24.55579326645227|\n",
      "|30.3|[0.04666,80.0,1.5...| 32.26215293496807|\n",
      "|24.6|[0.05425,0.0,4.05...|28.357480374802122|\n",
      "|32.4|[0.05644,40.0,6.4...| 33.13345189193163|\n",
      "+----+--------------------+------------------+\n",
      "only showing top 20 rows\n",
      "\n"
     ]
    }
   ],
   "source": [
    "#弹性网络做预测\n",
    "predictions = model_en.transform(test)\n",
    "predictions.select(predictions.columns[13:]).show()"
   ]
  },
  {
   "cell_type": "code",
   "execution_count": 26,
   "metadata": {},
   "outputs": [],
   "source": [
    "#分别对上面4个model 做evaluate\n",
    "evaluation_summary_regular = model.evaluate(test)          #  12全部评价一下 包括平方和，方差等等\n",
    "evaluation_summary_lasso   = model_lasso.evaluate(test)\n",
    "evaluation_summary_ridge   = model_ridge.evaluate(test)\n",
    "evaluation_summary_en      = model_en.evaluate(test)"
   ]
  },
  {
   "cell_type": "code",
   "execution_count": 27,
   "metadata": {},
   "outputs": [
    {
     "data": {
      "text/plain": [
       "4.90381184751194"
      ]
     },
     "execution_count": 27,
     "metadata": {},
     "output_type": "execute_result"
    }
   ],
   "source": [
    "evaluation_summary_regular.rootMeanSquaredError  #平方和 然后开根号"
   ]
  },
  {
   "cell_type": "code",
   "execution_count": 35,
   "metadata": {},
   "outputs": [
    {
     "data": {
      "text/plain": [
       "0.7429876743659836"
      ]
     },
     "execution_count": 35,
     "metadata": {},
     "output_type": "execute_result"
    }
   ],
   "source": [
    "evaluation_summary_regular.r2  # r  的值越接近 1 越好"
   ]
  },
  {
   "cell_type": "code",
   "execution_count": 36,
   "metadata": {},
   "outputs": [
    {
     "data": {
      "text/plain": [
       "5.188575457367097"
      ]
     },
     "execution_count": 36,
     "metadata": {},
     "output_type": "execute_result"
    }
   ],
   "source": [
    "evaluation_summary_lasso.rootMeanSquaredError"
   ]
  },
  {
   "cell_type": "code",
   "execution_count": 37,
   "metadata": {},
   "outputs": [
    {
     "data": {
      "text/plain": [
       "0.7122716677342387"
      ]
     },
     "execution_count": 37,
     "metadata": {},
     "output_type": "execute_result"
    }
   ],
   "source": [
    "evaluation_summary_lasso.r2"
   ]
  },
  {
   "cell_type": "code",
   "execution_count": 38,
   "metadata": {},
   "outputs": [
    {
     "data": {
      "text/plain": [
       "4.848226775853608"
      ]
     },
     "execution_count": 38,
     "metadata": {},
     "output_type": "execute_result"
    }
   ],
   "source": [
    "evaluation_summary_ridge.rootMeanSquaredError"
   ]
  },
  {
   "cell_type": "code",
   "execution_count": 39,
   "metadata": {},
   "outputs": [
    {
     "data": {
      "text/plain": [
       "0.748781160033186"
      ]
     },
     "execution_count": 39,
     "metadata": {},
     "output_type": "execute_result"
    }
   ],
   "source": [
    "evaluation_summary_ridge.r2"
   ]
  },
  {
   "cell_type": "code",
   "execution_count": 40,
   "metadata": {},
   "outputs": [
    {
     "data": {
      "text/plain": [
       "4.933135217852435"
      ]
     },
     "execution_count": 40,
     "metadata": {},
     "output_type": "execute_result"
    }
   ],
   "source": [
    "evaluation_summary_en.rootMeanSquaredError"
   ]
  },
  {
   "cell_type": "code",
   "execution_count": 41,
   "metadata": {},
   "outputs": [
    {
     "data": {
      "text/plain": [
       "0.7399047662996867"
      ]
     },
     "execution_count": 41,
     "metadata": {},
     "output_type": "execute_result"
    }
   ],
   "source": [
    "evaluation_summary_en.r2"
   ]
  },
  {
   "cell_type": "code",
   "execution_count": 42,
   "metadata": {},
   "outputs": [],
   "source": [
    "# 交叉验证"
   ]
  },
  {
   "cell_type": "markdown",
   "metadata": {},
   "source": [
    "<hr/>"
   ]
  },
  {
   "cell_type": "code",
   "execution_count": 43,
   "metadata": {},
   "outputs": [
    {
     "data": {
      "text/plain": [
       "353.21922489990465"
      ]
     },
     "execution_count": 43,
     "metadata": {},
     "output_type": "execute_result"
    }
   ],
   "source": [
    "import numpy as np\n",
    "\n",
    "# dot product. sum of squares - regular linear regression\n",
    "np.dot(model.coefficients, model.coefficients)"
   ]
  },
  {
   "cell_type": "code",
   "execution_count": 44,
   "metadata": {},
   "outputs": [
    {
     "data": {
      "text/plain": [
       "271.42570957837313"
      ]
     },
     "execution_count": 44,
     "metadata": {},
     "output_type": "execute_result"
    }
   ],
   "source": [
    "# dot product. sum of squares - ridge regression\n",
    "np.dot(model_ridge.coefficients, model_ridge.coefficients)"
   ]
  },
  {
   "cell_type": "code",
   "execution_count": 45,
   "metadata": {},
   "outputs": [
    {
     "name": "stdout",
     "output_type": "stream",
     "text": [
      "6.296435468609746\n"
     ]
    }
   ],
   "source": [
    "# sum of absolute value - lasso regression\n",
    "\n",
    "sum = 0.0\n",
    "for b in model_lasso.coefficients:\n",
    "    sum += abs(b)\n",
    "print(sum)"
   ]
  }
 ],
 "metadata": {
  "kernelspec": {
   "display_name": "Python 3",
   "language": "python",
   "name": "python3"
  },
  "language_info": {
   "codemirror_mode": {
    "name": "ipython",
    "version": 3
   },
   "file_extension": ".py",
   "mimetype": "text/x-python",
   "name": "python",
   "nbconvert_exporter": "python",
   "pygments_lexer": "ipython3",
   "version": "3.7.3"
  }
 },
 "nbformat": 4,
 "nbformat_minor": 2
}
